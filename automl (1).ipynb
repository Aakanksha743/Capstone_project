{
  "cells": [
    {
      "cell_type": "markdown",
      "source": [
        "# Automated ML\n",
        "\n",
        "TODO: Import Dependencies. In the cell below, import all the dependencies that you will need to complete the project."
      ],
      "metadata": {}
    },
    {
      "cell_type": "code",
      "source": [
        "from azureml.core import Workspace, Experiment\n",
        "from azureml.core.compute import ComputeTarget, AmlCompute\n",
        "from azureml.widgets import RunDetails\n",
        "import os\n",
        "import joblib\n",
        "\n",
        "from azureml.train.automl import AutoMLConfig\n",
        "from pprint import pprint # Used in printing automl model parameters\n",
        "from azureml.core import Model"
      ],
      "outputs": [],
      "execution_count": 1,
      "metadata": {
        "gather": {
          "logged": 1703332284498
        },
        "jupyter": {
          "outputs_hidden": false,
          "source_hidden": false
        },
        "nteract": {
          "transient": {
            "deleting": false
          }
        }
      }
    },
    {
      "cell_type": "code",
      "source": [
        "from azureml.data.dataset_factory import TabularDatasetFactory\n",
        "\n",
        "data_loc = 'https://raw.githubusercontent.com/Aakanksha743/Capstone_project/main/divorce.csv'\n",
        "ds = TabularDatasetFactory.from_delimited_files(data_loc)\n",
        "data = ds.to_pandas_dataframe().dropna()"
      ],
      "outputs": [],
      "execution_count": 2,
      "metadata": {
        "gather": {
          "logged": 1703332287783
        }
      }
    },
    {
      "cell_type": "markdown",
      "source": [
        "## Dataset\n",
        "\n",
        "### Overview\n",
        "TODO: In this markdown cell, give an overview of the dataset you are using. Also mention the task you will be performing.\n",
        "\n",
        "\n",
        "TODO: Get data. In the cell below, write code to access the data you will be using in this project. Remember that the dataset needs to be external."
      ],
      "metadata": {}
    },
    {
      "cell_type": "code",
      "source": [
        "ws = Workspace.from_config(path='Users/odl_user_246470/config.json')\n",
        "\n",
        "# choose a name for experiment\n",
        "experiment_name = 'capstoneproject1'\n",
        "\n",
        "experiment=Experiment(ws, experiment_name)"
      ],
      "outputs": [],
      "execution_count": 3,
      "metadata": {
        "gather": {
          "logged": 1703332288348
        },
        "jupyter": {
          "outputs_hidden": false,
          "source_hidden": false
        },
        "nteract": {
          "transient": {
            "deleting": false
          }
        }
      }
    },
    {
      "cell_type": "code",
      "source": [
        "compute_name = \"optCompute\"\n",
        "try:\n",
        "    trainCluster = ComputeTarget(ws, compute_name)\n",
        "    print(f\"{compute_name} exists already\")\n",
        "except:\n",
        "    compute_config = AmlCompute.provisioning_configuration(vm_size=\"Standard_D2_V2\", max_nodes=5)\n",
        "    trainCluster = ComputeTarget.create(ws, compute_name, compute_config)\n",
        "trainCluster.wait_for_completion(show_output=True)"
      ],
      "outputs": [
        {
          "output_type": "stream",
          "name": "stdout",
          "text": "optCompute exists already\nSucceeded\nAmlCompute wait for completion finished\n\nMinimum number of nodes requested have been provisioned\n"
        }
      ],
      "execution_count": 4,
      "metadata": {
        "gather": {
          "logged": 1703332288691
        }
      }
    },
    {
      "cell_type": "code",
      "source": [
        "# TODO: Put your automl settings here\n",
        "automl_settings = {\n",
        "    \"experiment_timeout_minutes\": 20,\n",
        "    \"max_concurrent_iterations\": 5,\n",
        "    \"primary_metric\" : 'accuracy'\n",
        "}\n",
        "\n",
        "# TODO: Put your automl config here\n",
        "automl_config = AutoMLConfig(\n",
        "        task='classification',\n",
        "        compute_target=trainCluster,\n",
        "        training_data=ds,\n",
        "        label_column_name='Class',\n",
        "        n_cross_validations=5,\n",
        "        **automl_settings\n",
        ")"
      ],
      "outputs": [],
      "execution_count": 5,
      "metadata": {
        "gather": {
          "logged": 1703332288990
        }
      }
    },
    {
      "cell_type": "markdown",
      "source": [
        "## AutoML Configuration\n",
        "\n",
        "TODO: Explain why you chose the automl settings and cofiguration you used below."
      ],
      "metadata": {}
    },
    {
      "cell_type": "code",
      "source": [
        "# TODO: Submit your experiment\n",
        "remote_run = experiment.submit(automl_config)"
      ],
      "outputs": [
        {
          "output_type": "stream",
          "name": "stdout",
          "text": "Submitting remote run.\n"
        },
        {
          "output_type": "display_data",
          "data": {
            "text/html": "<table style=\"width:100%\"><tr><th>Experiment</th><th>Id</th><th>Type</th><th>Status</th><th>Details Page</th><th>Docs Page</th></tr><tr><td>capstoneproject1</td><td>AutoML_d0402c8a-9f16-4cf2-aede-86b3ccd68576</td><td>automl</td><td>NotStarted</td><td><a href=\"https://ml.azure.com/runs/AutoML_d0402c8a-9f16-4cf2-aede-86b3ccd68576?wsid=/subscriptions/f5091c60-1c3c-430f-8d81-d802f6bf2414/resourcegroups/aml-quickstarts-246470/workspaces/quick-starts-ws-246470&amp;tid=660b3398-b80e-49d2-bc5b-ac1dc93b5254\" target=\"_blank\" rel=\"noopener\">Link to Azure Machine Learning studio</a></td><td><a href=\"https://docs.microsoft.com/en-us/python/api/overview/azure/ml/intro?view=azure-ml-py\" target=\"_blank\" rel=\"noopener\">Link to Documentation</a></td></tr></table>"
          },
          "metadata": {}
        }
      ],
      "execution_count": 6,
      "metadata": {
        "gather": {
          "logged": 1703332291581
        },
        "jupyter": {
          "outputs_hidden": false,
          "source_hidden": false
        },
        "nteract": {
          "transient": {
            "deleting": false
          }
        }
      }
    },
    {
      "cell_type": "markdown",
      "source": [
        "## Run Details\n",
        "\n",
        "OPTIONAL: Write about the different models trained and their performance. Why do you think some models did better than others?\n",
        "\n",
        "TODO: In the cell below, use the `RunDetails` widget to show the different experiments."
      ],
      "metadata": {}
    },
    {
      "cell_type": "code",
      "source": [
        "RunDetails(remote_run).show()\n",
        "remote_run.wait_for_completion(show_output=True)"
      ],
      "outputs": [
        {
          "output_type": "display_data",
          "data": {
            "text/plain": "_AutoMLWidget(widget_settings={'childWidgetDisplay': 'popup', 'send_telemetry': False, 'log_level': 'INFO', 's…",
            "application/vnd.jupyter.widget-view+json": {
              "version_major": 2,
              "version_minor": 0,
              "model_id": "8e5ba050f37d42ffb3299fa859cae5dd"
            }
          },
          "metadata": {}
        },
        {
          "output_type": "display_data",
          "data": {
            "application/aml.mini.widget.v1": "{\"status\": \"Completed\", \"workbench_run_details_uri\": \"https://ml.azure.com/runs/AutoML_d0402c8a-9f16-4cf2-aede-86b3ccd68576?wsid=/subscriptions/f5091c60-1c3c-430f-8d81-d802f6bf2414/resourcegroups/aml-quickstarts-246470/workspaces/quick-starts-ws-246470&tid=660b3398-b80e-49d2-bc5b-ac1dc93b5254\", \"run_id\": \"AutoML_d0402c8a-9f16-4cf2-aede-86b3ccd68576\", \"run_properties\": {\"run_id\": \"AutoML_d0402c8a-9f16-4cf2-aede-86b3ccd68576\", \"created_utc\": \"2023-12-23T11:51:30.698516Z\", \"properties\": {\"num_iterations\": \"1000\", \"training_type\": \"TrainFull\", \"acquisition_function\": \"EI\", \"primary_metric\": \"accuracy\", \"train_split\": \"0\", \"acquisition_parameter\": \"0\", \"num_cross_validation\": \"5\", \"target\": \"optCompute\", \"AMLSettingsJsonString\": \"{\\\"path\\\":null,\\\"name\\\":\\\"capstoneproject1\\\",\\\"subscription_id\\\":\\\"f5091c60-1c3c-430f-8d81-d802f6bf2414\\\",\\\"resource_group\\\":\\\"aml-quickstarts-246470\\\",\\\"workspace_name\\\":\\\"quick-starts-ws-246470\\\",\\\"region\\\":\\\"westus2\\\",\\\"compute_target\\\":\\\"optCompute\\\",\\\"spark_service\\\":null,\\\"azure_service\\\":\\\"remote\\\",\\\"many_models\\\":false,\\\"pipeline_fetch_max_batch_size\\\":1,\\\"enable_batch_run\\\":true,\\\"enable_parallel_run\\\":false,\\\"num_procs\\\":null,\\\"enable_run_restructure\\\":false,\\\"start_auxiliary_runs_before_parent_complete\\\":false,\\\"enable_code_generation\\\":true,\\\"force_curated_environment\\\":false,\\\"iterations\\\":1000,\\\"primary_metric\\\":\\\"accuracy\\\",\\\"task_type\\\":\\\"classification\\\",\\\"positive_label\\\":null,\\\"data_script\\\":null,\\\"test_size\\\":0.0,\\\"test_include_predictions_only\\\":false,\\\"validation_size\\\":0.0,\\\"n_cross_validations\\\":5,\\\"y_min\\\":null,\\\"y_max\\\":null,\\\"num_classes\\\":null,\\\"featurization\\\":\\\"auto\\\",\\\"_ignore_package_version_incompatibilities\\\":false,\\\"is_timeseries\\\":false,\\\"max_cores_per_iteration\\\":1,\\\"max_concurrent_iterations\\\":5,\\\"iteration_timeout_minutes\\\":null,\\\"mem_in_mb\\\":null,\\\"enforce_time_on_windows\\\":false,\\\"experiment_timeout_minutes\\\":20,\\\"experiment_exit_score\\\":null,\\\"partition_column_names\\\":null,\\\"whitelist_models\\\":null,\\\"blacklist_algos\\\":[\\\"TensorFlowLinearClassifier\\\",\\\"TensorFlowDNN\\\"],\\\"supported_models\\\":[\\\"XGBoostClassifier\\\",\\\"LinearSVM\\\",\\\"LogisticRegression\\\",\\\"KNN\\\",\\\"RandomForest\\\",\\\"ExtremeRandomTrees\\\",\\\"TensorFlowDNN\\\",\\\"LightGBM\\\",\\\"TensorFlowLinearClassifier\\\",\\\"TabnetClassifier\\\",\\\"DecisionTree\\\",\\\"SVM\\\",\\\"GradientBoosting\\\",\\\"AveragedPerceptronClassifier\\\",\\\"SGD\\\",\\\"BernoulliNaiveBayes\\\",\\\"MultinomialNaiveBayes\\\"],\\\"private_models\\\":[],\\\"auto_blacklist\\\":true,\\\"blacklist_samples_reached\\\":false,\\\"exclude_nan_labels\\\":true,\\\"verbosity\\\":20,\\\"_debug_log\\\":\\\"azureml_automl.log\\\",\\\"show_warnings\\\":false,\\\"model_explainability\\\":true,\\\"service_url\\\":null,\\\"sdk_url\\\":null,\\\"sdk_packages\\\":null,\\\"enable_onnx_compatible_models\\\":false,\\\"enable_split_onnx_featurizer_estimator_models\\\":false,\\\"vm_type\\\":\\\"STANDARD_D2_V2\\\",\\\"telemetry_verbosity\\\":20,\\\"send_telemetry\\\":true,\\\"enable_dnn\\\":false,\\\"scenario\\\":\\\"AutoML\\\",\\\"environment_label\\\":null,\\\"save_mlflow\\\":false,\\\"enable_categorical_indicators\\\":false,\\\"force_text_dnn\\\":false,\\\"enable_feature_sweeping\\\":true,\\\"enable_early_stopping\\\":true,\\\"early_stopping_n_iters\\\":10,\\\"arguments\\\":null,\\\"dataset_id\\\":\\\"edfd58d4-90d6-4507-932f-8e407f45d552\\\",\\\"hyperdrive_config\\\":null,\\\"validation_dataset_id\\\":null,\\\"run_source\\\":null,\\\"metrics\\\":null,\\\"enable_metric_confidence\\\":false,\\\"enable_ensembling\\\":true,\\\"enable_stack_ensembling\\\":true,\\\"ensemble_iterations\\\":15,\\\"enable_tf\\\":false,\\\"enable_subsampling\\\":null,\\\"subsample_seed\\\":null,\\\"enable_nimbusml\\\":false,\\\"enable_streaming\\\":false,\\\"force_streaming\\\":false,\\\"track_child_runs\\\":true,\\\"n_best_runs\\\":1,\\\"allowed_private_models\\\":[],\\\"label_column_name\\\":\\\"Class\\\",\\\"weight_column_name\\\":null,\\\"cv_split_column_names\\\":null,\\\"enable_local_managed\\\":false,\\\"_local_managed_run_id\\\":null,\\\"cost_mode\\\":1,\\\"lag_length\\\":0,\\\"metric_operation\\\":\\\"maximize\\\",\\\"preprocess\\\":true}\", \"DataPrepJsonString\": \"{\\\\\\\"training_data\\\\\\\": {\\\\\\\"datasetId\\\\\\\": \\\\\\\"edfd58d4-90d6-4507-932f-8e407f45d552\\\\\\\"}, \\\\\\\"datasets\\\\\\\": 0}\", \"EnableSubsampling\": null, \"runTemplate\": \"AutoML\", \"azureml.runsource\": \"automl\", \"display_task_type\": \"classification\", \"dependencies_versions\": \"{\\\"azureml-dataprep-native\\\": \\\"38.0.0\\\", \\\"azureml-dataprep\\\": \\\"4.12.8\\\", \\\"azureml-dataprep-rslex\\\": \\\"2.19.6\\\", \\\"azureml-train-automl-runtime\\\": \\\"1.54.0.post1\\\", \\\"azureml-core\\\": \\\"1.54.0.post1\\\", \\\"azureml-mlflow\\\": \\\"1.54.0.post1\\\", \\\"azureml-dataset-runtime\\\": \\\"1.54.0.post1\\\", \\\"azureml-train-automl-client\\\": \\\"1.54.0.post1\\\", \\\"azureml-automl-core\\\": \\\"1.54.0\\\", \\\"azureml-train-automl\\\": \\\"1.54.0\\\", \\\"azureml-sdk\\\": \\\"1.54.0\\\", \\\"azureml-train-core\\\": \\\"1.54.0\\\", \\\"azureml-automl-runtime\\\": \\\"1.54.0\\\", \\\"azureml-pipeline\\\": \\\"1.54.0\\\", \\\"azureml-train\\\": \\\"1.54.0\\\", \\\"azureml-train-restclients-hyperdrive\\\": \\\"1.54.0\\\", \\\"azureml-training-tabular\\\": \\\"1.54.0\\\", \\\"azureml-interpret\\\": \\\"1.54.0\\\", \\\"azureml-pipeline-core\\\": \\\"1.54.0\\\", \\\"azureml-telemetry\\\": \\\"1.54.0\\\", \\\"azureml-defaults\\\": \\\"1.54.0\\\", \\\"azureml-pipeline-steps\\\": \\\"1.54.0\\\", \\\"azureml-widgets\\\": \\\"1.51.0\\\", \\\"azureml-inference-server-http\\\": \\\"0.8.4.2\\\"}\", \"_aml_system_scenario_identification\": \"Remote.Parent\", \"ClientType\": \"SDK\", \"PlatformVersion\": \"DPV1\", \"environment_cpu_name\": \"AzureML-AutoML\", \"environment_cpu_label\": \"prod\", \"environment_gpu_name\": \"AzureML-AutoML-GPU\", \"environment_gpu_label\": \"prod\", \"root_attribution\": \"automl\", \"attribution\": \"AutoML\", \"Orchestrator\": \"AutoML\", \"CancelUri\": \"https://westus2.api.azureml.ms/jasmine/v1.0/subscriptions/f5091c60-1c3c-430f-8d81-d802f6bf2414/resourceGroups/aml-quickstarts-246470/providers/Microsoft.MachineLearningServices/workspaces/quick-starts-ws-246470/experimentids/b6b3722d-ed42-46c7-8747-fcd31604fc7a/cancel/AutoML_d0402c8a-9f16-4cf2-aede-86b3ccd68576\", \"ClientSdkVersion\": null, \"snapshotId\": \"00000000-0000-0000-0000-000000000000\", \"SetupRunId\": \"AutoML_d0402c8a-9f16-4cf2-aede-86b3ccd68576_setup\", \"SetupRunContainerId\": \"dcid.AutoML_d0402c8a-9f16-4cf2-aede-86b3ccd68576_setup\", \"FeaturizationRunJsonPath\": \"featurizer_container.json\", \"FeaturizationRunId\": \"AutoML_d0402c8a-9f16-4cf2-aede-86b3ccd68576_featurize\", \"ProblemInfoJsonString\": \"{\\\"dataset_num_categorical\\\": 0, \\\"is_sparse\\\": true, \\\"subsampling\\\": false, \\\"has_extra_col\\\": true, \\\"dataset_classes\\\": 2, \\\"dataset_features\\\": 270, \\\"dataset_samples\\\": 170, \\\"single_frequency_class_detected\\\": false}\", \"ModelExplainRunId\": \"AutoML_d0402c8a-9f16-4cf2-aede-86b3ccd68576_ModelExplain\"}, \"tags\": {\"model_explain_run\": \"best_run\", \"_aml_system_automl_run_workspace_id\": \"9d9af447-2242-48f5-9d83-950bd5d63c82\", \"_aml_system_azureml.automlComponent\": \"AutoML\", \"pipeline_id_000\": \"5dfac790c5c209f98a1da2dc1c7fb76f0397324f;3735210984ea10097d5c91905cf6300ac278cd89;79ebb3b8c385e3190e3dd4c1fa28b74730528045;da45f657e4591caadf1589a85a1f7b8932585595;c7af0367625be6ac5c2fecbfc72ed444cb7a2111;589334a57221e0720a95cf217c065115a7b841d1;5304e705d6f401cb07f85bcf0ca59ac1f84dfcf5;797e3e972ad02d947be4c64d2b06b775b6df7a49;5235e3d56688f5f38ef82d73fba7c2e698fc1af2;5a8eb9d9f67b1dd7e9e4062585daa2417ea78989;294650ec23bc3d067a4972de7ceb12f6e97260fa;799d2168db11fc19b9e1c6c1df62f8981ad39fe9;3fd2e115482e0c7b92aa3297688aefb6c3aa6fb8;17f87d449bb43aaf3cdae4b7eb6dd6e7fbdaf343;35b8e2db3c5f6e714072e1be9f0210fe48426975;3caa818370e5e0c328d6266c359019bd31681270;44b5d2d23120dfcf96a7dc6389a293d17a966b1b;dc68fbd594530b5d52812dd9b3ffa3d6d8ba625e;1dfdf370ba770047b14bfa59c40920815defcdab;2032292dd602836ed754a266c771ac100c4c80dc;e478544eb8734c07a1943f5bdf4e6605be6943df;1b9ea9b05e1aba0cfbaa30fae26f336a29920979;fedbb4995d6de479c513576119965d71276f03d1;786428f33de041f6236bfa605bdc27e5837d982d;c0b94dcf20ec4e873383d9c3d6a9af03728e0d20;82180ac7f67f1414b09c9685626ce77f45ba3cd1;18df284e0daa3701dae7b99aefd8162624cfb640;dfe1a00bc138127f56690d7723e203309ec862e5;163e82614f6c138199c2ce384a22bf744de9e95e;c0c40503c74d710b361b7712aea9f53248c7fe9e;74bdb0009b9ed8f259473d40d821bb60df3f3ac9;3da25312f48b7d1e6b26a892512d5e31323e8d7a;70387d435b5224814fa17ac357d06b277f560d4f;178ff9ded77bff9389242ddb4324d81b5c216658;5564cbb3538d13e6b8a7d1d2b07d332b881b4b0b;49018f8112f3887611b7d8f345192b9022f95ad3;acc0cd698c686564ea5462a9ed7124dedd72154f;967ca63ced258642879f19eec58ef0605a855241;__AutoML_Stack_Ensemble__;__AutoML_Ensemble__\", \"score_000\": \"0.9705882352941178;0.9705882352941178;0.9882352941176471;0.9764705882352942;0.9705882352941178;0.9823529411764707;0.9647058823529411;0.9764705882352942;0.9764705882352942;0.9647058823529413;0.9764705882352942;0.9764705882352942;0.9764705882352942;0.9882352941176471;0.9764705882352942;0.9764705882352942;0.9470588235294117;0.9705882352941178;0.9764705882352942;0.9470588235294117;0.9705882352941178;0.9529411764705882;0.9235294117647058;0.9764705882352942;0.9529411764705882;0.9882352941176471;0.9764705882352942;0.9647058823529413;0.9764705882352942;0.9470588235294117;0.9764705882352942;0.9823529411764707;0.9823529411764707;0.9764705882352942;0.9705882352941178;0.9529411764705882;0.9411764705882353;0.9764705882352942;0.9882352941176471;0.9882352941176471\", \"predicted_cost_000\": \"0;0.5;0.5;0.5;0;0.5;0.5;0.5;0.5;0.5;0.5;0.5;0.5;0.5;0.5;0.5;0.5;0.5;0.5;0.5;0.025740657891936282;0.009965044040113356;0.1463982167169527;0.0807085705214548;0.033962764779674956;0.010509228351793385;0.011479860765242043;0.02580765029934666;0.05284159403234644;0.035867819414909755;0.01725021369172871;0.08206367001152327;0.04988851781721372;0.027948987322076683;0.025812418264078218;0.018239359139864415;0.04538800841559089;0.09872619667720571;0;0\", \"fit_time_000\": \"0.037458599999999995;0.024084400000000002;0.039450400000000004;0.026660200000000002;0.044923399999999995;0.0135964;0.018706;0.0063977999999999995;0.019701;0.0196286;0.0183394;0.26261499999999993;0.0211362;0.06338379999999999;0.015603799999999998;0.027044199999999997;0.011332;0.0205414;0.22752499999999998;0.20021120000000003;0.0240124;0.0144088;0.357429;0.13590580000000002;0.0162918;0.0200402;0.0445592;0.0250376;0.0699594;0.022724;0.0239358;0.113341;0.0610044;0.027661199999999997;0.061912800000000004;0.0162996;0.040777999999999995;0.034971;18;17\", \"training_percent_000\": \"100;100;100;100;100;100;100;100;100;100;100;100;100;100;100;100;100;100;100;100;100;100;100;100;100;100;100;100;100;100;100;100;100;100;100;100;100;100;100;100\", \"iteration_000\": \"0;4;8;12;1;9;5;13;16;10;6;2;14;17;11;7;3;18;15;19;21;22;20;23;24;27;26;25;30;31;29;28;32;34;33;37;35;36;39;38\", \"run_preprocessor_000\": \"MaxAbsScaler;MaxAbsScaler;StandardScalerWrapper;MaxAbsScaler;MaxAbsScaler;StandardScalerWrapper;MaxAbsScaler;MaxAbsScaler;StandardScalerWrapper;SparseNormalizer;StandardScalerWrapper;MaxAbsScaler;StandardScalerWrapper;StandardScalerWrapper;StandardScalerWrapper;MaxAbsScaler;SparseNormalizer;StandardScalerWrapper;SparseNormalizer;TruncatedSVDWrapper;StandardScalerWrapper;SparseNormalizer;TruncatedSVDWrapper;SparseNormalizer;MaxAbsScaler;SparseNormalizer;SparseNormalizer;SparseNormalizer;SparseNormalizer;SparseNormalizer;SparseNormalizer;SparseNormalizer;StandardScalerWrapper;MaxAbsScaler;StandardScalerWrapper;SparseNormalizer;StandardScalerWrapper;MaxAbsScaler;;\", \"run_algorithm_000\": \"LightGBM;LightGBM;ExtremeRandomTrees;LogisticRegression;XGBoostClassifier;XGBoostClassifier;LightGBM;SGD;LogisticRegression;LightGBM;XGBoostClassifier;ExtremeRandomTrees;XGBoostClassifier;RandomForest;XGBoostClassifier;LogisticRegression;XGBoostClassifier;XGBoostClassifier;RandomForest;RandomForest;XGBoostClassifier;XGBoostClassifier;RandomForest;ExtremeRandomTrees;ExtremeRandomTrees;LightGBM;GradientBoosting;LightGBM;LightGBM;XGBoostClassifier;LightGBM;ExtremeRandomTrees;RandomForest;LightGBM;ExtremeRandomTrees;XGBoostClassifier;ExtremeRandomTrees;LightGBM;StackEnsemble;VotingEnsemble\", \"dynamic_allowlisting_iterations\": \"<23>;<28>;<35>;\", \"_aml_system_azureml.automl_early_exit_message\": \"No scores improved over last 10 iterations, so experiment stopped early. This early stopping behavior can be disabled by setting enable_early_stopping = False in AutoMLConfig for notebook/python SDK runs.\", \"automl_best_child_run_id\": \"AutoML_d0402c8a-9f16-4cf2-aede-86b3ccd68576_8\", \"model_explain_best_run_child_id\": \"AutoML_d0402c8a-9f16-4cf2-aede-86b3ccd68576_8\"}, \"end_time_utc\": \"2023-12-23T12:04:58.775961Z\", \"status\": \"Completed\", \"log_files\": {}, \"log_groups\": [], \"run_duration\": \"0:13:28\", \"run_number\": \"1703332290\", \"run_queued_details\": {\"status\": \"Completed\", \"details\": null}}, \"child_runs\": [{\"run_id\": \"AutoML_d0402c8a-9f16-4cf2-aede-86b3ccd68576_setup\", \"run_number\": 1703332303, \"metric\": null, \"status\": \"Completed\", \"run_type\": \"azureml.scriptrun\", \"training_percent\": null, \"start_time\": \"2023-12-23T11:52:07.760954Z\", \"end_time\": \"2023-12-23T11:52:41.939514Z\", \"created_time\": \"2023-12-23T11:51:43.047733Z\", \"created_time_dt\": \"2023-12-23T11:51:43.047733Z\", \"duration\": \"0:00:58\", \"iteration\": null, \"goal\": null, \"run_name\": \"Completed\", \"run_properties\": null}, {\"run_id\": \"AutoML_d0402c8a-9f16-4cf2-aede-86b3ccd68576_featurize\", \"run_number\": 1703332362, \"metric\": null, \"status\": \"Completed\", \"run_type\": \"automl.featurization\", \"training_percent\": null, \"start_time\": \"2023-12-23T11:52:42.792117Z\", \"end_time\": \"2023-12-23T11:57:57.553817Z\", \"created_time\": \"2023-12-23T11:52:42.281194Z\", \"created_time_dt\": \"2023-12-23T11:52:42.281194Z\", \"duration\": \"0:05:15\", \"iteration\": null, \"goal\": null, \"run_name\": \"Completed\", \"run_properties\": null}, {\"run_id\": \"AutoML_d0402c8a-9f16-4cf2-aede-86b3ccd68576_0\", \"run_number\": 1703332679, \"metric\": null, \"status\": \"Completed\", \"run_type\": null, \"training_percent\": \"100\", \"start_time\": \"2023-12-23T11:58:36.373905Z\", \"end_time\": \"2023-12-23T11:58:46.585429Z\", \"created_time\": \"2023-12-23T11:57:59.156752Z\", \"created_time_dt\": \"2023-12-23T11:57:59.156752Z\", \"duration\": \"0:00:47\", \"iteration\": \"0\", \"goal\": \"accuracy_max\", \"run_name\": \"MaxAbsScaler, LightGBM\", \"run_properties\": null, \"primary_metric\": 0.97058824, \"best_metric\": 0.97058824}, {\"run_id\": \"AutoML_d0402c8a-9f16-4cf2-aede-86b3ccd68576_2\", \"run_number\": 1703332680, \"metric\": null, \"status\": \"Completed\", \"run_type\": null, \"training_percent\": \"100\", \"start_time\": \"2023-12-23T11:58:55.736894Z\", \"end_time\": \"2023-12-23T11:59:05.129Z\", \"created_time\": \"2023-12-23T11:58:00.273155Z\", \"created_time_dt\": \"2023-12-23T11:58:00.273155Z\", \"duration\": \"0:01:04\", \"iteration\": \"2\", \"goal\": \"accuracy_max\", \"run_name\": \"MaxAbsScaler, ExtremeRandomTrees\", \"run_properties\": null, \"primary_metric\": 0.97647059, \"best_metric\": 0.97647059}, {\"run_id\": \"AutoML_d0402c8a-9f16-4cf2-aede-86b3ccd68576_worker_0\", \"run_number\": 1703332681, \"metric\": null, \"status\": \"Completed\", \"run_type\": \"azureml.scriptrun\", \"training_percent\": null, \"start_time\": \"2023-12-23T11:58:24.576244Z\", \"end_time\": \"2023-12-23T11:59:23.103507Z\", \"created_time\": \"2023-12-23T11:58:01.013518Z\", \"created_time_dt\": \"2023-12-23T11:58:01.013518Z\", \"duration\": \"0:01:22\", \"iteration\": null, \"goal\": null, \"run_name\": \"Completed\", \"run_properties\": null}, {\"run_id\": \"AutoML_d0402c8a-9f16-4cf2-aede-86b3ccd68576_worker_1\", \"run_number\": 1703332682, \"metric\": null, \"status\": \"Completed\", \"run_type\": \"azureml.scriptrun\", \"training_percent\": null, \"start_time\": \"2023-12-23T11:58:25.419975Z\", \"end_time\": \"2023-12-23T11:59:23.039365Z\", \"created_time\": \"2023-12-23T11:58:02.925867Z\", \"created_time_dt\": \"2023-12-23T11:58:02.925867Z\", \"duration\": \"0:01:20\", \"iteration\": null, \"goal\": null, \"run_name\": \"Completed\", \"run_properties\": null}, {\"run_id\": \"AutoML_d0402c8a-9f16-4cf2-aede-86b3ccd68576_8\", \"run_number\": 1703332683, \"metric\": null, \"status\": \"Completed\", \"run_type\": null, \"training_percent\": \"100\", \"start_time\": \"2023-12-23T11:58:36.725025Z\", \"end_time\": \"2023-12-23T11:58:47.118735Z\", \"created_time\": \"2023-12-23T11:58:03.103569Z\", \"created_time_dt\": \"2023-12-23T11:58:03.103569Z\", \"duration\": \"0:00:44\", \"iteration\": \"8\", \"goal\": \"accuracy_max\", \"run_name\": \"StandardScalerWrapper, ExtremeRandomTrees\", \"run_properties\": \"copy=True, with_mean=False, with_std=False\", \"primary_metric\": 0.98823529, \"best_metric\": 0.98823529}, {\"run_id\": \"AutoML_d0402c8a-9f16-4cf2-aede-86b3ccd68576_worker_2\", \"run_number\": 1703332684, \"metric\": null, \"status\": \"Completed\", \"run_type\": \"azureml.scriptrun\", \"training_percent\": null, \"start_time\": \"2023-12-23T11:58:25.441889Z\", \"end_time\": \"2023-12-23T11:59:21.837093Z\", \"created_time\": \"2023-12-23T11:58:04.850154Z\", \"created_time_dt\": \"2023-12-23T11:58:04.850154Z\", \"duration\": \"0:01:16\", \"iteration\": null, \"goal\": null, \"run_name\": \"Completed\", \"run_properties\": null}, {\"run_id\": \"AutoML_d0402c8a-9f16-4cf2-aede-86b3ccd68576_12\", \"run_number\": 1703332685, \"metric\": null, \"status\": \"Completed\", \"run_type\": null, \"training_percent\": \"100\", \"start_time\": \"2023-12-23T11:58:40.287325Z\", \"end_time\": \"2023-12-23T11:58:50.050777Z\", \"created_time\": \"2023-12-23T11:58:05.020605Z\", \"created_time_dt\": \"2023-12-23T11:58:05.020605Z\", \"duration\": \"0:00:45\", \"iteration\": \"12\", \"goal\": \"accuracy_max\", \"run_name\": \"MaxAbsScaler, LogisticRegression\", \"run_properties\": null, \"primary_metric\": 0.97647059, \"best_metric\": 0.98823529}, {\"run_id\": \"AutoML_d0402c8a-9f16-4cf2-aede-86b3ccd68576_worker_3\", \"run_number\": 1703332686, \"metric\": null, \"status\": \"Completed\", \"run_type\": \"azureml.scriptrun\", \"training_percent\": null, \"start_time\": \"2023-12-23T11:58:28.542934Z\", \"end_time\": \"2023-12-23T11:59:25.864126Z\", \"created_time\": \"2023-12-23T11:58:06.714229Z\", \"created_time_dt\": \"2023-12-23T11:58:06.714229Z\", \"duration\": \"0:01:19\", \"iteration\": null, \"goal\": null, \"run_name\": \"Completed\", \"run_properties\": null}, {\"run_id\": \"AutoML_d0402c8a-9f16-4cf2-aede-86b3ccd68576_17\", \"run_number\": 1703332687, \"metric\": null, \"status\": \"Completed\", \"run_type\": null, \"training_percent\": \"100\", \"start_time\": \"2023-12-23T11:58:59.031907Z\", \"end_time\": \"2023-12-23T11:59:07.125784Z\", \"created_time\": \"2023-12-23T11:58:07.36507Z\", \"created_time_dt\": \"2023-12-23T11:58:07.36507Z\", \"duration\": \"0:00:59\", \"iteration\": \"17\", \"goal\": \"accuracy_max\", \"run_name\": \"StandardScalerWrapper, RandomForest\", \"run_properties\": \"copy=True, with_mean=False, with_std=False\", \"primary_metric\": 0.98823529, \"best_metric\": 0.98823529}, {\"run_id\": \"AutoML_d0402c8a-9f16-4cf2-aede-86b3ccd68576_worker_4\", \"run_number\": 1703332688, \"metric\": null, \"status\": \"Completed\", \"run_type\": \"azureml.scriptrun\", \"training_percent\": null, \"start_time\": \"2023-12-23T11:58:36.671023Z\", \"end_time\": \"2023-12-23T11:59:34.744116Z\", \"created_time\": \"2023-12-23T11:58:08.71005Z\", \"created_time_dt\": \"2023-12-23T11:58:08.71005Z\", \"duration\": \"0:01:26\", \"iteration\": null, \"goal\": null, \"run_name\": \"Completed\", \"run_properties\": null}, {\"run_id\": \"AutoML_d0402c8a-9f16-4cf2-aede-86b3ccd68576_22\", \"run_number\": 1703332767, \"metric\": null, \"status\": \"Completed\", \"run_type\": \"azureml.scriptrun\", \"training_percent\": \"100\", \"start_time\": \"2023-12-23T11:59:48.851914Z\", \"end_time\": \"2023-12-23T12:00:18.923341Z\", \"created_time\": \"2023-12-23T11:59:27.726636Z\", \"created_time_dt\": \"2023-12-23T11:59:27.726636Z\", \"duration\": \"0:00:51\", \"iteration\": \"22\", \"goal\": \"accuracy_max\", \"run_name\": \"SparseNormalizer, XGBoostClassifier\", \"run_properties\": \"norm='l1'\", \"primary_metric\": 0.95294118, \"best_metric\": 0.98823529}, {\"run_id\": \"AutoML_d0402c8a-9f16-4cf2-aede-86b3ccd68576_23\", \"run_number\": 1703332821, \"metric\": null, \"status\": \"Completed\", \"run_type\": \"azureml.scriptrun\", \"training_percent\": \"100\", \"start_time\": \"2023-12-23T12:00:48.277371Z\", \"end_time\": \"2023-12-23T12:01:18.242275Z\", \"created_time\": \"2023-12-23T12:00:21.287462Z\", \"created_time_dt\": \"2023-12-23T12:00:21.287462Z\", \"duration\": \"0:00:56\", \"iteration\": \"23\", \"goal\": \"accuracy_max\", \"run_name\": \"SparseNormalizer, ExtremeRandomTrees\", \"run_properties\": \"norm='max'\", \"primary_metric\": 0.97647059, \"best_metric\": 0.98823529}, {\"run_id\": \"AutoML_d0402c8a-9f16-4cf2-aede-86b3ccd68576_27\", \"run_number\": 1703332823, \"metric\": null, \"status\": \"Completed\", \"run_type\": \"azureml.scriptrun\", \"training_percent\": \"100\", \"start_time\": \"2023-12-23T12:00:48.634487Z\", \"end_time\": \"2023-12-23T12:01:18.252513Z\", \"created_time\": \"2023-12-23T12:00:23.490441Z\", \"created_time_dt\": \"2023-12-23T12:00:23.490441Z\", \"duration\": \"0:00:54\", \"iteration\": \"27\", \"goal\": \"accuracy_max\", \"run_name\": \"SparseNormalizer, LightGBM\", \"run_properties\": \"norm='l1'\", \"primary_metric\": 0.98823529, \"best_metric\": 0.98823529}, {\"run_id\": \"AutoML_d0402c8a-9f16-4cf2-aede-86b3ccd68576_28\", \"run_number\": 1703332880, \"metric\": null, \"status\": \"Completed\", \"run_type\": \"azureml.scriptrun\", \"training_percent\": \"100\", \"start_time\": \"2023-12-23T12:01:42.865069Z\", \"end_time\": \"2023-12-23T12:02:12.676649Z\", \"created_time\": \"2023-12-23T12:01:20.580137Z\", \"created_time_dt\": \"2023-12-23T12:01:20.580137Z\", \"duration\": \"0:00:52\", \"iteration\": \"28\", \"goal\": \"accuracy_max\", \"run_name\": \"SparseNormalizer, ExtremeRandomTrees\", \"run_properties\": null, \"primary_metric\": 0.98235294, \"best_metric\": 0.98823529}, {\"run_id\": \"AutoML_d0402c8a-9f16-4cf2-aede-86b3ccd68576_32\", \"run_number\": 1703332882, \"metric\": null, \"status\": \"Completed\", \"run_type\": \"azureml.scriptrun\", \"training_percent\": \"100\", \"start_time\": \"2023-12-23T12:01:43.308307Z\", \"end_time\": \"2023-12-23T12:02:12.499151Z\", \"created_time\": \"2023-12-23T12:01:22.781025Z\", \"created_time_dt\": \"2023-12-23T12:01:22.781025Z\", \"duration\": \"0:00:49\", \"iteration\": \"32\", \"goal\": \"accuracy_max\", \"run_name\": \"StandardScalerWrapper, RandomForest\", \"run_properties\": \"copy=True, with_mean=False, with_std=True\", \"primary_metric\": 0.98235294, \"best_metric\": 0.98823529}, {\"run_id\": \"AutoML_d0402c8a-9f16-4cf2-aede-86b3ccd68576_34\", \"run_number\": 1703332933, \"metric\": null, \"status\": \"Completed\", \"run_type\": \"azureml.scriptrun\", \"training_percent\": \"100\", \"start_time\": \"2023-12-23T12:02:36.330509Z\", \"end_time\": \"2023-12-23T12:03:06.70683Z\", \"created_time\": \"2023-12-23T12:02:13.896714Z\", \"created_time_dt\": \"2023-12-23T12:02:13.896714Z\", \"duration\": \"0:00:52\", \"iteration\": \"34\", \"goal\": \"accuracy_max\", \"run_name\": \"MaxAbsScaler, LightGBM\", \"run_properties\": null, \"primary_metric\": 0.97647059, \"best_metric\": 0.98823529}, {\"run_id\": \"AutoML_d0402c8a-9f16-4cf2-aede-86b3ccd68576_35\", \"run_number\": 1703332937, \"metric\": null, \"status\": \"Completed\", \"run_type\": \"azureml.scriptrun\", \"training_percent\": \"100\", \"start_time\": \"2023-12-23T12:02:38.36459Z\", \"end_time\": \"2023-12-23T12:03:09.22311Z\", \"created_time\": \"2023-12-23T12:02:17.057933Z\", \"created_time_dt\": \"2023-12-23T12:02:17.057933Z\", \"duration\": \"0:00:52\", \"iteration\": \"35\", \"goal\": \"accuracy_max\", \"run_name\": \"StandardScalerWrapper, ExtremeRandomTrees\", \"run_properties\": \"copy=True, with_mean=False, with_std=True\", \"primary_metric\": 0.94117647, \"best_metric\": 0.98823529}, {\"run_id\": \"AutoML_d0402c8a-9f16-4cf2-aede-86b3ccd68576_39\", \"run_number\": 1703332995, \"metric\": null, \"status\": \"Completed\", \"run_type\": \"azureml.scriptrun\", \"training_percent\": \"100\", \"start_time\": \"2023-12-23T12:03:41.053621Z\", \"end_time\": \"2023-12-23T12:04:35.042439Z\", \"created_time\": \"2023-12-23T12:03:15.273544Z\", \"created_time_dt\": \"2023-12-23T12:03:15.273544Z\", \"duration\": \"0:01:19\", \"iteration\": \"39\", \"goal\": \"accuracy_max\", \"run_name\": \"StackEnsemble\", \"run_properties\": \"base_learners=[('27', Pipeline(memory=None, steps=[('sparsenormalizer', Normalizer(copy=True, norm='l1'\", \"primary_metric\": 0.98823529, \"best_metric\": 0.98823529}], \"children_metrics\": {\"categories\": [0], \"series\": {\"f1_score_macro\": [{\"categories\": [\"0\", \"2\", \"8\", \"12\", \"17\", \"22\", \"23\", \"27\", \"28\", \"32\", \"34\", \"35\", \"39\"], \"mode\": \"markers\", \"name\": \"f1_score_macro\", \"stepped\": false, \"type\": \"scatter\", \"data\": [0.9701230781472716, 0.9761232071961812, 0.9881944444444445, 0.9761232071961812, 0.9881944444444445, 0.9524949715035922, 0.9761232071961812, 0.9881944444444445, 0.9822659352901288, 0.9820517163504968, 0.9760515873015873, 0.9405338196286472, 0.9881944444444445]}, {\"categories\": [\"0\", \"2\", \"8\", \"12\", \"17\", \"22\", \"23\", \"27\", \"28\", \"32\", \"34\", \"35\", \"39\"], \"mode\": \"lines\", \"name\": \"f1_score_macro_max\", \"stepped\": true, \"type\": \"scatter\", \"data\": [0.9701230781472716, 0.9761232071961812, 0.9881944444444445, 0.9881944444444445, 0.9881944444444445, 0.9881944444444445, 0.9881944444444445, 0.9881944444444445, 0.9881944444444445, 0.9881944444444445, 0.9881944444444445, 0.9881944444444445, 0.9881944444444445]}], \"average_precision_score_weighted\": [{\"categories\": [\"0\", \"2\", \"8\", \"12\", \"17\", \"22\", \"23\", \"27\", \"28\", \"32\", \"34\", \"35\", \"39\"], \"mode\": \"markers\", \"name\": \"average_precision_score_weighted\", \"stepped\": false, \"type\": \"scatter\", \"data\": [0.9980287114845939, 1.0, 1.0, 1.0, 1.0, 0.9980781105011663, 0.9993464052287582, 1.0, 0.9974387634310691, 0.9980695683846295, 0.9986904761904762, 0.9967795714777139, 1.0]}, {\"categories\": [\"0\", \"2\", \"8\", \"12\", \"17\", \"22\", \"23\", \"27\", \"28\", \"32\", \"34\", \"35\", \"39\"], \"mode\": \"lines\", \"name\": \"average_precision_score_weighted_max\", \"stepped\": true, \"type\": \"scatter\", \"data\": [0.9980287114845939, 1.0, 1.0, 1.0, 1.0, 1.0, 1.0, 1.0, 1.0, 1.0, 1.0, 1.0, 1.0]}], \"AUC_weighted\": [{\"categories\": [\"0\", \"2\", \"8\", \"12\", \"17\", \"22\", \"23\", \"27\", \"28\", \"32\", \"34\", \"35\", \"39\"], \"mode\": \"markers\", \"name\": \"AUC_weighted\", \"stepped\": false, \"type\": \"scatter\", \"data\": [0.9978696741854638, 1.0, 1.0, 1.0, 1.0, 0.9978571428571428, 0.9993079584775086, 1.0, 0.9972318339100346, 0.9979238754325259, 0.9985714285714286, 0.9964661654135337, 1.0]}, {\"categories\": [\"0\", \"2\", \"8\", \"12\", \"17\", \"22\", \"23\", \"27\", \"28\", \"32\", \"34\", \"35\", \"39\"], \"mode\": \"lines\", \"name\": \"AUC_weighted_max\", \"stepped\": true, \"type\": \"scatter\", \"data\": [0.9978696741854638, 1.0, 1.0, 1.0, 1.0, 1.0, 1.0, 1.0, 1.0, 1.0, 1.0, 1.0, 1.0]}], \"precision_score_macro\": [{\"categories\": [\"0\", \"2\", \"8\", \"12\", \"17\", \"22\", \"23\", \"27\", \"28\", \"32\", \"34\", \"35\", \"39\"], \"mode\": \"markers\", \"name\": \"precision_score_macro\", \"stepped\": false, \"type\": \"scatter\", \"data\": [0.9710808270676692, 0.9784617794486217, 0.9894736842105264, 0.9784617794486217, 0.9894736842105264, 0.9542105263157896, 0.9784617794486217, 0.9894736842105264, 0.9832236842105264, 0.9847117794486216, 0.9773308270676692, 0.9423477812177502, 0.9894736842105264]}, {\"categories\": [\"0\", \"2\", \"8\", \"12\", \"17\", \"22\", \"23\", \"27\", \"28\", \"32\", \"34\", \"35\", \"39\"], \"mode\": \"lines\", \"name\": \"precision_score_macro_max\", \"stepped\": true, \"type\": \"scatter\", \"data\": [0.9710808270676692, 0.9784617794486217, 0.9894736842105264, 0.9894736842105264, 0.9894736842105264, 0.9894736842105264, 0.9894736842105264, 0.9894736842105264, 0.9894736842105264, 0.9894736842105264, 0.9894736842105264, 0.9894736842105264, 0.9894736842105264]}], \"log_loss\": [{\"categories\": [\"0\", \"2\", \"8\", \"12\", \"17\", \"22\", \"23\", \"27\", \"28\", \"32\", \"34\", \"35\", \"39\"], \"mode\": \"markers\", \"name\": \"log_loss\", \"stepped\": false, \"type\": \"scatter\", \"data\": [0.10354515873281381, 0.0877310583538955, 0.06789772005940478, 0.08878606602248026, 0.0630577598712441, 0.17152413369322533, 0.09981636588332536, 0.18856469868300935, 0.13804916009791518, 0.1046903675031248, 0.061942594109881066, 0.12345279819939606, 0.3965125868147245]}, {\"categories\": [\"0\", \"2\", \"8\", \"12\", \"17\", \"22\", \"23\", \"27\", \"28\", \"32\", \"34\", \"35\", \"39\"], \"mode\": \"lines\", \"name\": \"log_loss_min\", \"stepped\": true, \"type\": \"scatter\", \"data\": [0.10354515873281381, 0.0877310583538955, 0.06789772005940478, 0.06789772005940478, 0.0630577598712441, 0.0630577598712441, 0.0630577598712441, 0.0630577598712441, 0.0630577598712441, 0.0630577598712441, 0.061942594109881066, 0.061942594109881066, 0.061942594109881066]}], \"f1_score_micro\": [{\"categories\": [\"0\", \"2\", \"8\", \"12\", \"17\", \"22\", \"23\", \"27\", \"28\", \"32\", \"34\", \"35\", \"39\"], \"mode\": \"markers\", \"name\": \"f1_score_micro\", \"stepped\": false, \"type\": \"scatter\", \"data\": [0.9705882352941178, 0.9764705882352942, 0.9882352941176471, 0.9764705882352942, 0.9882352941176471, 0.9529411764705881, 0.9764705882352942, 0.9882352941176471, 0.9823529411764707, 0.9823529411764707, 0.9764705882352942, 0.9411764705882352, 0.9882352941176471]}, {\"categories\": [\"0\", \"2\", \"8\", \"12\", \"17\", \"22\", \"23\", \"27\", \"28\", \"32\", \"34\", \"35\", \"39\"], \"mode\": \"lines\", \"name\": \"f1_score_micro_max\", \"stepped\": true, \"type\": \"scatter\", \"data\": [0.9705882352941178, 0.9764705882352942, 0.9882352941176471, 0.9882352941176471, 0.9882352941176471, 0.9882352941176471, 0.9882352941176471, 0.9882352941176471, 0.9882352941176471, 0.9882352941176471, 0.9882352941176471, 0.9882352941176471, 0.9882352941176471]}], \"precision_score_micro\": [{\"categories\": [\"0\", \"2\", \"8\", \"12\", \"17\", \"22\", \"23\", \"27\", \"28\", \"32\", \"34\", \"35\", \"39\"], \"mode\": \"markers\", \"name\": \"precision_score_micro\", \"stepped\": false, \"type\": \"scatter\", \"data\": [0.9705882352941178, 0.9764705882352942, 0.9882352941176471, 0.9764705882352942, 0.9882352941176471, 0.9529411764705882, 0.9764705882352942, 0.9882352941176471, 0.9823529411764707, 0.9823529411764707, 0.9764705882352942, 0.9411764705882353, 0.9882352941176471]}, {\"categories\": [\"0\", \"2\", \"8\", \"12\", \"17\", \"22\", \"23\", \"27\", \"28\", \"32\", \"34\", \"35\", \"39\"], \"mode\": \"lines\", \"name\": \"precision_score_micro_max\", \"stepped\": true, \"type\": \"scatter\", \"data\": [0.9705882352941178, 0.9764705882352942, 0.9882352941176471, 0.9882352941176471, 0.9882352941176471, 0.9882352941176471, 0.9882352941176471, 0.9882352941176471, 0.9882352941176471, 0.9882352941176471, 0.9882352941176471, 0.9882352941176471, 0.9882352941176471]}], \"AUC_micro\": [{\"categories\": [\"0\", \"2\", \"8\", \"12\", \"17\", \"22\", \"23\", \"27\", \"28\", \"32\", \"34\", \"35\", \"39\"], \"mode\": \"markers\", \"name\": \"AUC_micro\", \"stepped\": false, \"type\": \"scatter\", \"data\": [0.9974048442906573, 0.9989619377162631, 0.9993079584775086, 0.9989619377162631, 0.9993079584775086, 0.995847750865052, 0.9986159169550174, 0.9993079584775086, 0.996712802768166, 0.9980968858131488, 0.9979238754325259, 0.9944636678200693, 0.9993079584775086]}, {\"categories\": [\"0\", \"2\", \"8\", \"12\", \"17\", \"22\", \"23\", \"27\", \"28\", \"32\", \"34\", \"35\", \"39\"], \"mode\": \"lines\", \"name\": \"AUC_micro_max\", \"stepped\": true, \"type\": \"scatter\", \"data\": [0.9974048442906573, 0.9989619377162631, 0.9993079584775086, 0.9993079584775086, 0.9993079584775086, 0.9993079584775086, 0.9993079584775086, 0.9993079584775086, 0.9993079584775086, 0.9993079584775086, 0.9993079584775086, 0.9993079584775086, 0.9993079584775086]}], \"recall_score_weighted\": [{\"categories\": [\"0\", \"2\", \"8\", \"12\", \"17\", \"22\", \"23\", \"27\", \"28\", \"32\", \"34\", \"35\", \"39\"], \"mode\": \"markers\", \"name\": \"recall_score_weighted\", \"stepped\": false, \"type\": \"scatter\", \"data\": [0.9705882352941178, 0.9764705882352942, 0.9882352941176471, 0.9764705882352942, 0.9882352941176471, 0.9529411764705882, 0.9764705882352942, 0.9882352941176471, 0.9823529411764707, 0.9823529411764707, 0.9764705882352942, 0.9411764705882353, 0.9882352941176471]}, {\"categories\": [\"0\", \"2\", \"8\", \"12\", \"17\", \"22\", \"23\", \"27\", \"28\", \"32\", \"34\", \"35\", \"39\"], \"mode\": \"lines\", \"name\": \"recall_score_weighted_max\", \"stepped\": true, \"type\": \"scatter\", \"data\": [0.9705882352941178, 0.9764705882352942, 0.9882352941176471, 0.9882352941176471, 0.9882352941176471, 0.9882352941176471, 0.9882352941176471, 0.9882352941176471, 0.9882352941176471, 0.9882352941176471, 0.9882352941176471, 0.9882352941176471, 0.9882352941176471]}], \"average_precision_score_micro\": [{\"categories\": [\"0\", \"2\", \"8\", \"12\", \"17\", \"22\", \"23\", \"27\", \"28\", \"32\", \"34\", \"35\", \"39\"], \"mode\": \"markers\", \"name\": \"average_precision_score_micro\", \"stepped\": false, \"type\": \"scatter\", \"data\": [0.9975175220157919, 0.9990009337068161, 0.9993370681605975, 0.9990009337068161, 0.9993370681605975, 0.9960683065307677, 0.9986725304372364, 0.9993370681605975, 0.996887176195331, 0.9981926973575808, 0.9980239037851495, 0.9947905958258125, 0.9993370681605975]}, {\"categories\": [\"0\", \"2\", \"8\", \"12\", \"17\", \"22\", \"23\", \"27\", \"28\", \"32\", \"34\", \"35\", \"39\"], \"mode\": \"lines\", \"name\": \"average_precision_score_micro_max\", \"stepped\": true, \"type\": \"scatter\", \"data\": [0.9975175220157919, 0.9990009337068161, 0.9993370681605975, 0.9993370681605975, 0.9993370681605975, 0.9993370681605975, 0.9993370681605975, 0.9993370681605975, 0.9993370681605975, 0.9993370681605975, 0.9993370681605975, 0.9993370681605975, 0.9993370681605975]}], \"recall_score_macro\": [{\"categories\": [\"0\", \"2\", \"8\", \"12\", \"17\", \"22\", \"23\", \"27\", \"28\", \"32\", \"34\", \"35\", \"39\"], \"mode\": \"markers\", \"name\": \"recall_score_macro\", \"stepped\": false, \"type\": \"scatter\", \"data\": [0.9708292790800531, 0.9758292790800531, 0.9882352941176471, 0.9758292790800531, 0.9882352941176471, 0.9553029632905794, 0.9758292790800531, 0.9882352941176471, 0.9829721362229102, 0.98109243697479, 0.9760924369747899, 0.9419696299572461, 0.9882352941176471]}, {\"categories\": [\"0\", \"2\", \"8\", \"12\", \"17\", \"22\", \"23\", \"27\", \"28\", \"32\", \"34\", \"35\", \"39\"], \"mode\": \"lines\", \"name\": \"recall_score_macro_max\", \"stepped\": true, \"type\": \"scatter\", \"data\": [0.9708292790800531, 0.9758292790800531, 0.9882352941176471, 0.9882352941176471, 0.9882352941176471, 0.9882352941176471, 0.9882352941176471, 0.9882352941176471, 0.9882352941176471, 0.9882352941176471, 0.9882352941176471, 0.9882352941176471, 0.9882352941176471]}], \"balanced_accuracy\": [{\"categories\": [\"0\", \"2\", \"8\", \"12\", \"17\", \"22\", \"23\", \"27\", \"28\", \"32\", \"34\", \"35\", \"39\"], \"mode\": \"markers\", \"name\": \"balanced_accuracy\", \"stepped\": false, \"type\": \"scatter\", \"data\": [0.9708292790800531, 0.9758292790800531, 0.9882352941176471, 0.9758292790800531, 0.9882352941176471, 0.9553029632905794, 0.9758292790800531, 0.9882352941176471, 0.9829721362229102, 0.98109243697479, 0.9760924369747899, 0.9419696299572461, 0.9882352941176471]}, {\"categories\": [\"0\", \"2\", \"8\", \"12\", \"17\", \"22\", \"23\", \"27\", \"28\", \"32\", \"34\", \"35\", \"39\"], \"mode\": \"lines\", \"name\": \"balanced_accuracy_max\", \"stepped\": true, \"type\": \"scatter\", \"data\": [0.9708292790800531, 0.9758292790800531, 0.9882352941176471, 0.9882352941176471, 0.9882352941176471, 0.9882352941176471, 0.9882352941176471, 0.9882352941176471, 0.9882352941176471, 0.9882352941176471, 0.9882352941176471, 0.9882352941176471, 0.9882352941176471]}], \"precision_score_weighted\": [{\"categories\": [\"0\", \"2\", \"8\", \"12\", \"17\", \"22\", \"23\", \"27\", \"28\", \"32\", \"34\", \"35\", \"39\"], \"mode\": \"markers\", \"name\": \"precision_score_weighted\", \"stepped\": false, \"type\": \"scatter\", \"data\": [0.9721942724458204, 0.978356737431815, 0.9894736842105264, 0.978356737431815, 0.9894736842105264, 0.9575954592363262, 0.978356737431815, 0.9894736842105264, 0.9839589783281735, 0.9838714433141679, 0.9777089783281733, 0.9445677775754264, 0.9894736842105264]}, {\"categories\": [\"0\", \"2\", \"8\", \"12\", \"17\", \"22\", \"23\", \"27\", \"28\", \"32\", \"34\", \"35\", \"39\"], \"mode\": \"lines\", \"name\": \"precision_score_weighted_max\", \"stepped\": true, \"type\": \"scatter\", \"data\": [0.9721942724458204, 0.978356737431815, 0.9894736842105264, 0.9894736842105264, 0.9894736842105264, 0.9894736842105264, 0.9894736842105264, 0.9894736842105264, 0.9894736842105264, 0.9894736842105264, 0.9894736842105264, 0.9894736842105264, 0.9894736842105264]}], \"average_precision_score_macro\": [{\"categories\": [\"0\", \"2\", \"8\", \"12\", \"17\", \"22\", \"23\", \"27\", \"28\", \"32\", \"34\", \"35\", \"39\"], \"mode\": \"markers\", \"name\": \"average_precision_score_macro\", \"stepped\": false, \"type\": \"scatter\", \"data\": [0.997939223057644, 1.0, 1.0, 1.0, 1.0, 0.9979882426654874, 0.9993464052287582, 1.0, 0.9974387634310691, 0.9980695683846295, 0.9986190476190476, 0.9966753726421317, 1.0]}, {\"categories\": [\"0\", \"2\", \"8\", \"12\", \"17\", \"22\", \"23\", \"27\", \"28\", \"32\", \"34\", \"35\", \"39\"], \"mode\": \"lines\", \"name\": \"average_precision_score_macro_max\", \"stepped\": true, \"type\": \"scatter\", \"data\": [0.997939223057644, 1.0, 1.0, 1.0, 1.0, 1.0, 1.0, 1.0, 1.0, 1.0, 1.0, 1.0, 1.0]}], \"matthews_correlation\": [{\"categories\": [\"0\", \"2\", \"8\", \"12\", \"17\", \"22\", \"23\", \"27\", \"28\", \"32\", \"34\", \"35\", \"39\"], \"mode\": \"markers\", \"name\": \"matthews_correlation\", \"stepped\": false, \"type\": \"scatter\", \"data\": [0.9419032077732764, 0.9542690902316716, 0.9777046633277277, 0.9542690902316716, 0.9777046633277277, 0.9095004461383169, 0.9542690902316716, 0.9777046633277277, 0.9661889220589905, 0.9657848315004086, 0.9534189490420134, 0.8842955495966767, 0.9777046633277277]}, {\"categories\": [\"0\", \"2\", \"8\", \"12\", \"17\", \"22\", \"23\", \"27\", \"28\", \"32\", \"34\", \"35\", \"39\"], \"mode\": \"lines\", \"name\": \"matthews_correlation_max\", \"stepped\": true, \"type\": \"scatter\", \"data\": [0.9419032077732764, 0.9542690902316716, 0.9777046633277277, 0.9777046633277277, 0.9777046633277277, 0.9777046633277277, 0.9777046633277277, 0.9777046633277277, 0.9777046633277277, 0.9777046633277277, 0.9777046633277277, 0.9777046633277277, 0.9777046633277277]}], \"AUC_macro\": [{\"categories\": [\"0\", \"2\", \"8\", \"12\", \"17\", \"22\", \"23\", \"27\", \"28\", \"32\", \"34\", \"35\", \"39\"], \"mode\": \"markers\", \"name\": \"AUC_macro\", \"stepped\": false, \"type\": \"scatter\", \"data\": [0.9978696741854638, 1.0, 1.0, 1.0, 1.0, 0.9978571428571428, 0.9993079584775086, 1.0, 0.9972318339100346, 0.9979238754325259, 0.9985714285714286, 0.9964661654135337, 1.0]}, {\"categories\": [\"0\", \"2\", \"8\", \"12\", \"17\", \"22\", \"23\", \"27\", \"28\", \"32\", \"34\", \"35\", \"39\"], \"mode\": \"lines\", \"name\": \"AUC_macro_max\", \"stepped\": true, \"type\": \"scatter\", \"data\": [0.9978696741854638, 1.0, 1.0, 1.0, 1.0, 1.0, 1.0, 1.0, 1.0, 1.0, 1.0, 1.0, 1.0]}], \"recall_score_micro\": [{\"categories\": [\"0\", \"2\", \"8\", \"12\", \"17\", \"22\", \"23\", \"27\", \"28\", \"32\", \"34\", \"35\", \"39\"], \"mode\": \"markers\", \"name\": \"recall_score_micro\", \"stepped\": false, \"type\": \"scatter\", \"data\": [0.9705882352941178, 0.9764705882352942, 0.9882352941176471, 0.9764705882352942, 0.9882352941176471, 0.9529411764705882, 0.9764705882352942, 0.9882352941176471, 0.9823529411764707, 0.9823529411764707, 0.9764705882352942, 0.9411764705882353, 0.9882352941176471]}, {\"categories\": [\"0\", \"2\", \"8\", \"12\", \"17\", \"22\", \"23\", \"27\", \"28\", \"32\", \"34\", \"35\", \"39\"], \"mode\": \"lines\", \"name\": \"recall_score_micro_max\", \"stepped\": true, \"type\": \"scatter\", \"data\": [0.9705882352941178, 0.9764705882352942, 0.9882352941176471, 0.9882352941176471, 0.9882352941176471, 0.9882352941176471, 0.9882352941176471, 0.9882352941176471, 0.9882352941176471, 0.9882352941176471, 0.9882352941176471, 0.9882352941176471, 0.9882352941176471]}], \"f1_score_weighted\": [{\"categories\": [\"0\", \"2\", \"8\", \"12\", \"17\", \"22\", \"23\", \"27\", \"28\", \"32\", \"34\", \"35\", \"39\"], \"mode\": \"markers\", \"name\": \"f1_score_weighted\", \"stepped\": false, \"type\": \"scatter\", \"data\": [0.9705627710252948, 0.9764079275160753, 0.9881944444444445, 0.9764079275160753, 0.9881944444444445, 0.9530241786048075, 0.9764079275160753, 0.9881944444444445, 0.9823274769076477, 0.9822748950528721, 0.9764297385620916, 0.9412693304554359, 0.9881944444444445]}, {\"categories\": [\"0\", \"2\", \"8\", \"12\", \"17\", \"22\", \"23\", \"27\", \"28\", \"32\", \"34\", \"35\", \"39\"], \"mode\": \"lines\", \"name\": \"f1_score_weighted_max\", \"stepped\": true, \"type\": \"scatter\", \"data\": [0.9705627710252948, 0.9764079275160753, 0.9881944444444445, 0.9881944444444445, 0.9881944444444445, 0.9881944444444445, 0.9881944444444445, 0.9881944444444445, 0.9881944444444445, 0.9881944444444445, 0.9881944444444445, 0.9881944444444445, 0.9881944444444445]}], \"accuracy\": [{\"categories\": [\"0\", \"2\", \"8\", \"12\", \"17\", \"22\", \"23\", \"27\", \"28\", \"32\", \"34\", \"35\", \"39\"], \"mode\": \"markers\", \"name\": \"accuracy\", \"stepped\": false, \"type\": \"scatter\", \"data\": [0.9705882352941178, 0.9764705882352942, 0.9882352941176471, 0.9764705882352942, 0.9882352941176471, 0.9529411764705882, 0.9764705882352942, 0.9882352941176471, 0.9823529411764707, 0.9823529411764707, 0.9764705882352942, 0.9411764705882353, 0.9882352941176471]}, {\"categories\": [\"0\", \"2\", \"8\", \"12\", \"17\", \"22\", \"23\", \"27\", \"28\", \"32\", \"34\", \"35\", \"39\"], \"mode\": \"lines\", \"name\": \"accuracy_max\", \"stepped\": true, \"type\": \"scatter\", \"data\": [0.9705882352941178, 0.9764705882352942, 0.9882352941176471, 0.9882352941176471, 0.9882352941176471, 0.9882352941176471, 0.9882352941176471, 0.9882352941176471, 0.9882352941176471, 0.9882352941176471, 0.9882352941176471, 0.9882352941176471, 0.9882352941176471]}], \"weighted_accuracy\": [{\"categories\": [\"0\", \"2\", \"8\", \"12\", \"17\", \"22\", \"23\", \"27\", \"28\", \"32\", \"34\", \"35\", \"39\"], \"mode\": \"markers\", \"name\": \"weighted_accuracy\", \"stepped\": false, \"type\": \"scatter\", \"data\": [0.9703412565062675, 0.9770526659022407, 0.9882352941176471, 0.9770526659022407, 0.9882352941176471, 0.9506605638338439, 0.9770526659022407, 0.9882352941176471, 0.9817506524794218, 0.9835373075404659, 0.9768258981444926, 0.9404216559840144, 0.9882352941176471]}, {\"categories\": [\"0\", \"2\", \"8\", \"12\", \"17\", \"22\", \"23\", \"27\", \"28\", \"32\", \"34\", \"35\", \"39\"], \"mode\": \"lines\", \"name\": \"weighted_accuracy_max\", \"stepped\": true, \"type\": \"scatter\", \"data\": [0.9703412565062675, 0.9770526659022407, 0.9882352941176471, 0.9882352941176471, 0.9882352941176471, 0.9882352941176471, 0.9882352941176471, 0.9882352941176471, 0.9882352941176471, 0.9882352941176471, 0.9882352941176471, 0.9882352941176471, 0.9882352941176471]}], \"norm_macro_recall\": [{\"categories\": [\"0\", \"2\", \"8\", \"12\", \"17\", \"22\", \"23\", \"27\", \"28\", \"32\", \"34\", \"35\", \"39\"], \"mode\": \"markers\", \"name\": \"norm_macro_recall\", \"stepped\": false, \"type\": \"scatter\", \"data\": [0.9416585581601062, 0.9516585581601061, 0.9764705882352942, 0.9516585581601061, 0.9764705882352942, 0.9106059265811588, 0.9516585581601061, 0.9764705882352942, 0.9659442724458204, 0.9621848739495797, 0.9521848739495798, 0.8839392599144922, 0.9764705882352942]}, {\"categories\": [\"0\", \"2\", \"8\", \"12\", \"17\", \"22\", \"23\", \"27\", \"28\", \"32\", \"34\", \"35\", \"39\"], \"mode\": \"lines\", \"name\": \"norm_macro_recall_max\", \"stepped\": true, \"type\": \"scatter\", \"data\": [0.9416585581601062, 0.9516585581601061, 0.9764705882352942, 0.9764705882352942, 0.9764705882352942, 0.9764705882352942, 0.9764705882352942, 0.9764705882352942, 0.9764705882352942, 0.9764705882352942, 0.9764705882352942, 0.9764705882352942, 0.9764705882352942]}]}, \"metricName\": null, \"primaryMetricName\": \"accuracy\", \"showLegend\": false}, \"run_metrics\": [{\"name\": \"experiment_status\", \"run_id\": \"AutoML_d0402c8a-9f16-4cf2-aede-86b3ccd68576\", \"categories\": [0, 1, 2, 3, 4, 5, 6, 7, 8, 9, 10, 11, 12, 13], \"series\": [{\"data\": [\"DatasetEvaluation\", \"FeaturesGeneration\", \"DatasetFeaturization\", \"DatasetFeaturizationCompleted\", \"DatasetCrossValidationSplit\", \"ModelSelection\", \"BestRunExplainModel\", \"ModelExplanationDataSetSetup\", \"PickSurrogateModel\", \"EngineeredFeatureExplanations\", \"EngineeredFeatureExplanations\", \"RawFeaturesExplanations\", \"RawFeaturesExplanations\", \"BestRunExplainModel\"]}]}, {\"name\": \"experiment_status_description\", \"run_id\": \"AutoML_d0402c8a-9f16-4cf2-aede-86b3ccd68576\", \"categories\": [0, 1, 2, 3, 4, 5, 6, 7, 8, 9, 10, 11, 12, 13], \"series\": [{\"data\": [\"Gathering dataset statistics.\", \"Generating features for the dataset.\", \"Beginning to fit featurizers and featurize the dataset.\", \"Completed fit featurizers and featurizing the dataset.\", \"Generating individually featurized CV splits.\", \"Beginning model selection.\", \"Best run model explanations started\", \"Model explanations data setup completed\", \"Choosing LightGBM as the surrogate model for explanations\", \"Computation of engineered features started\", \"Computation of engineered features completed\", \"Computation of raw features started\", \"Computation of raw features completed\", \"Best run model explanations completed\"]}]}], \"run_logs\": \"\\nRun is completed.\", \"graph\": {}, \"widget_settings\": {\"childWidgetDisplay\": \"popup\", \"send_telemetry\": false, \"log_level\": \"INFO\", \"sdk_version\": \"1.54.0\"}, \"loading\": false}"
          },
          "metadata": {}
        },
        {
          "output_type": "display_data",
          "data": {
            "text/html": "<table style=\"width:100%\"><tr><th>Experiment</th><th>Id</th><th>Type</th><th>Status</th><th>Details Page</th><th>Docs Page</th></tr><tr><td>capstoneproject1</td><td>AutoML_d0402c8a-9f16-4cf2-aede-86b3ccd68576</td><td>automl</td><td>NotStarted</td><td><a href=\"https://ml.azure.com/runs/AutoML_d0402c8a-9f16-4cf2-aede-86b3ccd68576?wsid=/subscriptions/f5091c60-1c3c-430f-8d81-d802f6bf2414/resourcegroups/aml-quickstarts-246470/workspaces/quick-starts-ws-246470&amp;tid=660b3398-b80e-49d2-bc5b-ac1dc93b5254\" target=\"_blank\" rel=\"noopener\">Link to Azure Machine Learning studio</a></td><td><a href=\"https://docs.microsoft.com/en-us/python/api/overview/azure/ml/intro?view=azure-ml-py\" target=\"_blank\" rel=\"noopener\">Link to Documentation</a></td></tr></table>"
          },
          "metadata": {}
        },
        {
          "output_type": "stream",
          "name": "stdout",
          "text": "\nCurrent status: FeaturesGeneration. Generating features for the dataset.\nCurrent status: DatasetFeaturization. Beginning to fit featurizers and featurize the dataset.\nCurrent status: DatasetCrossValidationSplit. Generating individually featurized CV splits.\nCurrent status: ModelSelection. Beginning model selection.\n\n********************************************************************************************\nDATA GUARDRAILS: \n\nTYPE:         Class balancing detection\nSTATUS:       PASSED\nDESCRIPTION:  Your inputs were analyzed, and all classes are balanced in your training data.\n              Learn more about imbalanced data: https://aka.ms/AutomatedMLImbalancedData\n\n********************************************************************************************\n\nTYPE:         Missing feature values imputation\nSTATUS:       PASSED\nDESCRIPTION:  No feature missing values were detected in the training data.\n              Learn more about missing value imputation: https://aka.ms/AutomatedMLFeaturization\n\n********************************************************************************************\n\nTYPE:         High cardinality feature detection\nSTATUS:       PASSED\nDESCRIPTION:  Your inputs were analyzed, and no high cardinality features were detected.\n              Learn more about high cardinality feature handling: https://aka.ms/AutomatedMLFeaturization\n\n********************************************************************************************\n\n********************************************************************************************\nITER: The iteration being evaluated.\nPIPELINE: A summary description of the pipeline being evaluated.\nDURATION: Time taken for the current iteration.\nMETRIC: The result of computing score on the fitted pipeline.\nBEST: The best observed score thus far.\n********************************************************************************************\n\n ITER   PIPELINE                                       DURATION            METRIC      BEST\n    0   MaxAbsScaler LightGBM                          0:00:10             0.9706    0.9706\n    4   MaxAbsScaler LightGBM                          0:00:10             0.9706    0.9706\n    1   MaxAbsScaler XGBoostClassifier                 0:00:08             0.9706    0.9706\n    2   MaxAbsScaler ExtremeRandomTrees                0:00:09             0.9765    0.9765\n    5   MaxAbsScaler LightGBM                          0:00:08             0.9647    0.9765\n    6   StandardScalerWrapper XGBoostClassifier        0:00:08             0.9765    0.9765\n   10   SparseNormalizer LightGBM                      0:00:08             0.9647    0.9765\n    3   SparseNormalizer XGBoostClassifier             0:00:08             0.9471    0.9765\n    7   MaxAbsScaler LogisticRegression                0:00:08             0.9765    0.9765\n    8   StandardScalerWrapper ExtremeRandomTrees       0:00:10             0.9882    0.9882\n    9   StandardScalerWrapper XGBoostClassifier        0:00:08             0.9824    0.9882\n   11   StandardScalerWrapper XGBoostClassifier        0:00:08             0.9765    0.9882\n   12   MaxAbsScaler LogisticRegression                0:00:10             0.9765    0.9882\n   13   MaxAbsScaler SGD                               0:00:08             0.9765    0.9882\n   14   StandardScalerWrapper XGBoostClassifier        0:00:08             0.9765    0.9882\n   15   SparseNormalizer RandomForest                  0:00:09             0.9765    0.9882\n   16   StandardScalerWrapper LogisticRegression       0:00:10             0.9765    0.9882\n   17   StandardScalerWrapper RandomForest             0:00:08             0.9882    0.9882\n   18   StandardScalerWrapper XGBoostClassifier        0:00:08             0.9706    0.9882\n   19   TruncatedSVDWrapper RandomForest               0:00:09             0.9471    0.9882\n   20   TruncatedSVDWrapper RandomForest               0:00:32             0.9235    0.9882\n   21   StandardScalerWrapper XGBoostClassifier        0:00:30             0.9706    0.9882\n   22   SparseNormalizer XGBoostClassifier             0:00:30             0.9529    0.9882\n   23   SparseNormalizer ExtremeRandomTrees            0:00:30             0.9765    0.9882\n   24   MaxAbsScaler ExtremeRandomTrees                0:00:30             0.9529    0.9882\n   25   SparseNormalizer LightGBM                      0:00:29             0.9647    0.9882\n   26   SparseNormalizer GradientBoosting              0:00:29             0.9765    0.9882\n   27   SparseNormalizer LightGBM                      0:00:30             0.9882    0.9882\n   28   SparseNormalizer ExtremeRandomTrees            0:00:30             0.9824    0.9882\n   29   SparseNormalizer LightGBM                      0:00:30             0.9765    0.9882\n   30   SparseNormalizer LightGBM                      0:00:29             0.9765    0.9882\n   31   SparseNormalizer XGBoostClassifier             0:00:29             0.9471    0.9882\n   32   StandardScalerWrapper RandomForest             0:00:29             0.9824    0.9882\n   33   StandardScalerWrapper ExtremeRandomTrees       0:00:31             0.9706    0.9882\nERROR: {\n    \"additional_properties\": {\n        \"statusCode\": 400\n    },\n    \"error\": {\n        \"additional_properties\": {\n            \"debugInfo\": null\n        },\n        \"code\": \"UserError\",\n        \"severity\": null,\n        \"message\": \"Unexpected User Error\",\n        \"message_format\": null,\n        \"message_parameters\": null,\n        \"reference_code\": null,\n        \"details_uri\": null,\n        \"target\": null,\n        \"details\": [],\n        \"inner_error\": null,\n        \"additional_info\": null\n    },\n    \"correlation\": {\n        \"operation\": \"92efa051c87969b219ee47debb8bac12\",\n        \"request\": \"7f6ffe86e5acc98b\"\n    },\n    \"environment\": \"westus2\",\n    \"location\": \"westus2\",\n    \"time\": {},\n    \"component_name\": \"GlobalJobDispatcher\"\n}\n   34   MaxAbsScaler LightGBM                          0:00:30             0.9765    0.9882\n   35   StandardScalerWrapper ExtremeRandomTrees       0:00:31             0.9412    0.9882\n   36   MaxAbsScaler LightGBM                          0:00:35             0.9765    0.9882\n   37   SparseNormalizer XGBoostClassifier             0:00:29             0.9529    0.9882\nERROR: {\n    \"additional_properties\": {\n        \"statusCode\": 400\n    },\n    \"error\": {\n        \"additional_properties\": {\n            \"debugInfo\": null\n        },\n        \"code\": \"UserError\",\n        \"severity\": null,\n        \"message\": \"Unexpected User Error\",\n        \"message_format\": null,\n        \"message_parameters\": null,\n        \"reference_code\": null,\n        \"details_uri\": null,\n        \"target\": null,\n        \"details\": [],\n        \"inner_error\": null,\n        \"additional_info\": null\n    },\n    \"correlation\": {\n        \"operation\": \"045e01f1043b8ba03723839f5920aa29\",\n        \"request\": \"232c2733111ab338\"\n    },\n    \"environment\": \"westus2\",\n    \"location\": \"westus2\",\n    \"time\": {},\n    \"component_name\": \"GlobalJobDispatcher\"\n}\n   39    StackEnsemble                                 0:00:54             0.9882    0.9882\n   38    VotingEnsemble                                0:00:52             0.9882    0.9882\n"
        },
        {
          "output_type": "execute_result",
          "execution_count": 7,
          "data": {
            "text/plain": "{'runId': 'AutoML_d0402c8a-9f16-4cf2-aede-86b3ccd68576',\n 'target': 'optCompute',\n 'status': 'Completed',\n 'startTimeUtc': '2023-12-23T11:51:44.690501Z',\n 'endTimeUtc': '2023-12-23T12:04:58.775961Z',\n 'services': {},\n 'warnings': [{'source': 'JasmineService',\n   'message': 'No scores improved over last 10 iterations, so experiment stopped early. This early stopping behavior can be disabled by setting enable_early_stopping = False in AutoMLConfig for notebook/python SDK runs.'}],\n 'properties': {'num_iterations': '1000',\n  'training_type': 'TrainFull',\n  'acquisition_function': 'EI',\n  'primary_metric': 'accuracy',\n  'train_split': '0',\n  'acquisition_parameter': '0',\n  'num_cross_validation': '5',\n  'target': 'optCompute',\n  'AMLSettingsJsonString': '{\"path\":null,\"name\":\"capstoneproject1\",\"subscription_id\":\"f5091c60-1c3c-430f-8d81-d802f6bf2414\",\"resource_group\":\"aml-quickstarts-246470\",\"workspace_name\":\"quick-starts-ws-246470\",\"region\":\"westus2\",\"compute_target\":\"optCompute\",\"spark_service\":null,\"azure_service\":\"remote\",\"many_models\":false,\"pipeline_fetch_max_batch_size\":1,\"enable_batch_run\":true,\"enable_parallel_run\":false,\"num_procs\":null,\"enable_run_restructure\":false,\"start_auxiliary_runs_before_parent_complete\":false,\"enable_code_generation\":true,\"force_curated_environment\":false,\"iterations\":1000,\"primary_metric\":\"accuracy\",\"task_type\":\"classification\",\"positive_label\":null,\"data_script\":null,\"test_size\":0.0,\"test_include_predictions_only\":false,\"validation_size\":0.0,\"n_cross_validations\":5,\"y_min\":null,\"y_max\":null,\"num_classes\":null,\"featurization\":\"auto\",\"_ignore_package_version_incompatibilities\":false,\"is_timeseries\":false,\"max_cores_per_iteration\":1,\"max_concurrent_iterations\":5,\"iteration_timeout_minutes\":null,\"mem_in_mb\":null,\"enforce_time_on_windows\":false,\"experiment_timeout_minutes\":20,\"experiment_exit_score\":null,\"partition_column_names\":null,\"whitelist_models\":null,\"blacklist_algos\":[\"TensorFlowLinearClassifier\",\"TensorFlowDNN\"],\"supported_models\":[\"XGBoostClassifier\",\"LinearSVM\",\"LogisticRegression\",\"KNN\",\"RandomForest\",\"ExtremeRandomTrees\",\"TensorFlowDNN\",\"LightGBM\",\"TensorFlowLinearClassifier\",\"TabnetClassifier\",\"DecisionTree\",\"SVM\",\"GradientBoosting\",\"AveragedPerceptronClassifier\",\"SGD\",\"BernoulliNaiveBayes\",\"MultinomialNaiveBayes\"],\"private_models\":[],\"auto_blacklist\":true,\"blacklist_samples_reached\":false,\"exclude_nan_labels\":true,\"verbosity\":20,\"_debug_log\":\"azureml_automl.log\",\"show_warnings\":false,\"model_explainability\":true,\"service_url\":null,\"sdk_url\":null,\"sdk_packages\":null,\"enable_onnx_compatible_models\":false,\"enable_split_onnx_featurizer_estimator_models\":false,\"vm_type\":\"STANDARD_D2_V2\",\"telemetry_verbosity\":20,\"send_telemetry\":true,\"enable_dnn\":false,\"scenario\":\"AutoML\",\"environment_label\":null,\"save_mlflow\":false,\"enable_categorical_indicators\":false,\"force_text_dnn\":false,\"enable_feature_sweeping\":true,\"enable_early_stopping\":true,\"early_stopping_n_iters\":10,\"arguments\":null,\"dataset_id\":\"edfd58d4-90d6-4507-932f-8e407f45d552\",\"hyperdrive_config\":null,\"validation_dataset_id\":null,\"run_source\":null,\"metrics\":null,\"enable_metric_confidence\":false,\"enable_ensembling\":true,\"enable_stack_ensembling\":true,\"ensemble_iterations\":15,\"enable_tf\":false,\"enable_subsampling\":null,\"subsample_seed\":null,\"enable_nimbusml\":false,\"enable_streaming\":false,\"force_streaming\":false,\"track_child_runs\":true,\"n_best_runs\":1,\"allowed_private_models\":[],\"label_column_name\":\"Class\",\"weight_column_name\":null,\"cv_split_column_names\":null,\"enable_local_managed\":false,\"_local_managed_run_id\":null,\"cost_mode\":1,\"lag_length\":0,\"metric_operation\":\"maximize\",\"preprocess\":true}',\n  'DataPrepJsonString': '{\\\\\"training_data\\\\\": {\\\\\"datasetId\\\\\": \\\\\"edfd58d4-90d6-4507-932f-8e407f45d552\\\\\"}, \\\\\"datasets\\\\\": 0}',\n  'EnableSubsampling': None,\n  'runTemplate': 'AutoML',\n  'azureml.runsource': 'automl',\n  'display_task_type': 'classification',\n  'dependencies_versions': '{\"azureml-dataprep-native\": \"38.0.0\", \"azureml-dataprep\": \"4.12.8\", \"azureml-dataprep-rslex\": \"2.19.6\", \"azureml-train-automl-runtime\": \"1.54.0.post1\", \"azureml-core\": \"1.54.0.post1\", \"azureml-mlflow\": \"1.54.0.post1\", \"azureml-dataset-runtime\": \"1.54.0.post1\", \"azureml-train-automl-client\": \"1.54.0.post1\", \"azureml-automl-core\": \"1.54.0\", \"azureml-train-automl\": \"1.54.0\", \"azureml-sdk\": \"1.54.0\", \"azureml-train-core\": \"1.54.0\", \"azureml-automl-runtime\": \"1.54.0\", \"azureml-pipeline\": \"1.54.0\", \"azureml-train\": \"1.54.0\", \"azureml-train-restclients-hyperdrive\": \"1.54.0\", \"azureml-training-tabular\": \"1.54.0\", \"azureml-interpret\": \"1.54.0\", \"azureml-pipeline-core\": \"1.54.0\", \"azureml-telemetry\": \"1.54.0\", \"azureml-defaults\": \"1.54.0\", \"azureml-pipeline-steps\": \"1.54.0\", \"azureml-widgets\": \"1.51.0\", \"azureml-inference-server-http\": \"0.8.4.2\"}',\n  '_aml_system_scenario_identification': 'Remote.Parent',\n  'ClientType': 'SDK',\n  'PlatformVersion': 'DPV1',\n  'environment_cpu_name': 'AzureML-AutoML',\n  'environment_cpu_label': 'prod',\n  'environment_gpu_name': 'AzureML-AutoML-GPU',\n  'environment_gpu_label': 'prod',\n  'root_attribution': 'automl',\n  'attribution': 'AutoML',\n  'Orchestrator': 'AutoML',\n  'CancelUri': 'https://westus2.api.azureml.ms/jasmine/v1.0/subscriptions/f5091c60-1c3c-430f-8d81-d802f6bf2414/resourceGroups/aml-quickstarts-246470/providers/Microsoft.MachineLearningServices/workspaces/quick-starts-ws-246470/experimentids/b6b3722d-ed42-46c7-8747-fcd31604fc7a/cancel/AutoML_d0402c8a-9f16-4cf2-aede-86b3ccd68576',\n  'ClientSdkVersion': None,\n  'snapshotId': '00000000-0000-0000-0000-000000000000',\n  'SetupRunId': 'AutoML_d0402c8a-9f16-4cf2-aede-86b3ccd68576_setup',\n  'SetupRunContainerId': 'dcid.AutoML_d0402c8a-9f16-4cf2-aede-86b3ccd68576_setup',\n  'FeaturizationRunJsonPath': 'featurizer_container.json',\n  'FeaturizationRunId': 'AutoML_d0402c8a-9f16-4cf2-aede-86b3ccd68576_featurize',\n  'ProblemInfoJsonString': '{\"dataset_num_categorical\": 0, \"is_sparse\": true, \"subsampling\": false, \"has_extra_col\": true, \"dataset_classes\": 2, \"dataset_features\": 270, \"dataset_samples\": 170, \"single_frequency_class_detected\": false}',\n  'ModelExplainRunId': 'AutoML_d0402c8a-9f16-4cf2-aede-86b3ccd68576_ModelExplain'},\n 'inputDatasets': [{'dataset': {'id': 'edfd58d4-90d6-4507-932f-8e407f45d552'}, 'consumptionDetails': {'type': 'RunInput', 'inputName': 'training_data', 'mechanism': 'Direct'}}],\n 'outputDatasets': [],\n 'logFiles': {},\n 'submittedBy': 'ODL_User 246470'}"
          },
          "metadata": {}
        }
      ],
      "execution_count": 7,
      "metadata": {
        "gather": {
          "logged": 1703333119208
        },
        "jupyter": {
          "outputs_hidden": false,
          "source_hidden": false
        },
        "nteract": {
          "transient": {
            "deleting": false
          }
        }
      }
    },
    {
      "cell_type": "markdown",
      "source": [
        "## Best Model\n",
        "\n",
        "TODO: In the cell below, get the best model from the automl experiments and display all the properties of the model.\n",
        "\n"
      ],
      "metadata": {}
    },
    {
      "cell_type": "code",
      "source": [
        "# Get best run and model\n",
        "best_run, fitted_model = remote_run.get_output()\n",
        "\n",
        "# Print the best run\n",
        "print(best_run)\n",
        "\n",
        "# Get all metrics of the best run\n",
        "best_run_metrics = best_run.get_metrics()\n",
        "\n",
        "# Print all metrics of the best run\n",
        "for metric_name in best_run_metrics:\n",
        "    metric = best_run_metrics[metric_name]\n",
        "    print(metric_name, metric)"
      ],
      "outputs": [
        {
          "output_type": "stream",
          "name": "stdout",
          "text": "Run(Experiment: capstoneproject1,\nId: AutoML_d0402c8a-9f16-4cf2-aede-86b3ccd68576_8,\nType: None,\nStatus: Completed)\nnorm_macro_recall 0.9764705882352942\nAUC_macro 1.0\nrecall_score_micro 0.9882352941176471\naverage_precision_score_macro 1.0\nf1_score_macro 0.9881944444444445\nrecall_score_macro 0.9882352941176471\naverage_precision_score_weighted 1.0\nf1_score_micro 0.9882352941176471\nweighted_accuracy 0.9882352941176471\nAUC_micro 0.9993079584775086\naverage_precision_score_micro 0.9993370681605975\nf1_score_weighted 0.9881944444444445\nbalanced_accuracy 0.9882352941176471\nmatthews_correlation 0.9777046633277277\nrecall_score_weighted 0.9882352941176471\naccuracy 0.9882352941176471\nlog_loss 0.06789772005940478\nprecision_score_micro 0.9882352941176471\nprecision_score_macro 0.9894736842105264\nprecision_score_weighted 0.9894736842105264\nAUC_weighted 1.0\nconfusion_matrix aml://artifactId/ExperimentRun/dcid.AutoML_d0402c8a-9f16-4cf2-aede-86b3ccd68576_8/confusion_matrix\naccuracy_table aml://artifactId/ExperimentRun/dcid.AutoML_d0402c8a-9f16-4cf2-aede-86b3ccd68576_8/accuracy_table\n"
        }
      ],
      "execution_count": 8,
      "metadata": {
        "gather": {
          "logged": 1703333125352
        },
        "jupyter": {
          "outputs_hidden": false,
          "source_hidden": false
        },
        "nteract": {
          "transient": {
            "deleting": false
          }
        }
      }
    },
    {
      "cell_type": "code",
      "source": [
        "#TODO: Save the best model\n",
        "# Print detailed parameters of the fitted model\n",
        "def print_model(model, prefix=\"\"):\n",
        "    for step in model.steps:\n",
        "        print(prefix + step[0])\n",
        "        if hasattr(step[1], 'estimators') and hasattr(step[1], 'weights'):\n",
        "            pprint({'estimators': list(\n",
        "                e[0] for e in step[1].estimators), 'weights': step[1].weights})\n",
        "            print()\n",
        "            for estimator in step[1].estimators:\n",
        "                print_model(estimator[1], estimator[0] + ' - ')\n",
        "        else:\n",
        "            pprint(step[1].get_params())\n",
        "            print()\n",
        "\n",
        "print_model(fitted_model)"
      ],
      "outputs": [
        {
          "output_type": "stream",
          "name": "stdout",
          "text": "datatransformer\n{'enable_dnn': False,\n 'enable_feature_sweeping': True,\n 'feature_sweeping_config': {},\n 'feature_sweeping_timeout': 86400,\n 'featurization_config': None,\n 'force_text_dnn': False,\n 'is_cross_validation': True,\n 'is_onnx_compatible': False,\n 'observer': None,\n 'task': 'classification',\n 'working_dir': '/mnt/batch/tasks/shared/LS_root/mounts/clusters/notebook246470/code/Users/odl_user_246470'}\n\nStandardScalerWrapper\n{'class_name': 'StandardScaler',\n 'copy': True,\n 'module_name': 'sklearn.preprocessing._data',\n 'with_mean': False,\n 'with_std': False}\n\nExtraTreesClassifier\n{'bootstrap': False,\n 'ccp_alpha': 0.0,\n 'class_weight': None,\n 'criterion': 'entropy',\n 'max_depth': None,\n 'max_features': 0.05,\n 'max_leaf_nodes': None,\n 'max_samples': None,\n 'min_impurity_decrease': 0.0,\n 'min_samples_leaf': 0.01,\n 'min_samples_split': 0.01,\n 'min_weight_fraction_leaf': 0.0,\n 'n_estimators': 25,\n 'n_jobs': 1,\n 'oob_score': False,\n 'random_state': None,\n 'verbose': 0,\n 'warm_start': False}\n\n"
        }
      ],
      "execution_count": 9,
      "metadata": {
        "gather": {
          "logged": 1703333125684
        },
        "jupyter": {
          "outputs_hidden": false,
          "source_hidden": false
        },
        "nteract": {
          "transient": {
            "deleting": false
          }
        }
      }
    },
    {
      "cell_type": "code",
      "source": [
        "#TODO: Save the best model\n",
        "myModel = best_run.register_model(model_path='outputs/model.pkl', model_name='capstoneModel_automl',\n",
        "                        tags={'Training context':'Auto ML'},\n",
        "                        properties={'Accuracy': best_run_metrics['accuracy']})\n",
        "\n",
        "print(myModel)"
      ],
      "outputs": [
        {
          "output_type": "stream",
          "name": "stdout",
          "text": "Model(workspace=Workspace.create(name='quick-starts-ws-246470', subscription_id='f5091c60-1c3c-430f-8d81-d802f6bf2414', resource_group='aml-quickstarts-246470'), name=capstoneModel_automl, id=capstoneModel_automl:2, version=2, tags={'Training context': 'Auto ML'}, properties={'Accuracy': '0.9882352941176471'})\n"
        }
      ],
      "execution_count": 10,
      "metadata": {
        "gather": {
          "logged": 1703333126704
        }
      }
    },
    {
      "cell_type": "code",
      "source": [
        "# List registered models to verify if model has been saved\n",
        "for model in Model.list(ws):\n",
        "    print(model.name, 'version:', model.version)\n",
        "    for tag_name in model.tags:\n",
        "        tag = model.tags[tag_name]\n",
        "        print ('\\t',tag_name, ':', tag)\n",
        "    for prop_name in model.properties:\n",
        "        prop = model.properties[prop_name]\n",
        "        print ('\\t',prop_name, ':', prop)\n",
        "    print('\\n')"
      ],
      "outputs": [
        {
          "output_type": "stream",
          "name": "stdout",
          "text": "capstoneModel_automl version: 2\n\t Training context : Auto ML\n\t Accuracy : 0.9882352941176471\n\n\ncapstoneModel_automl version: 1\n\t Training context : Auto ML\n\t Accuracy : 0.9882352941176471\n\n\n"
        }
      ],
      "execution_count": 11,
      "metadata": {
        "gather": {
          "logged": 1703333127156
        }
      }
    },
    {
      "cell_type": "code",
      "source": [
        "# Download scoring file \n",
        "best_run.download_file('outputs/scoring_file_v_1_0_0.py', 'scoreScript.py')\n",
        "\n",
        "# Download environment file\n",
        "best_run.download_file('outputs/conda_env_v_1_0_0.yml', 'envFile.yml')"
      ],
      "outputs": [],
      "execution_count": 12,
      "metadata": {
        "gather": {
          "logged": 1703333127563
        }
      }
    },
    {
      "cell_type": "markdown",
      "source": [
        "## Model Deployment\n",
        "\n",
        "Remember you have to deploy only one of the two models you trained but you still need to register both the models. Perform the steps in the rest of this notebook only if you wish to deploy this model.\n",
        "\n",
        "TODO: In the cell below, register the model, create an inference config and deploy the model as a web service."
      ],
      "metadata": {}
    },
    {
      "cell_type": "code",
      "source": [
        "from azureml.core.environment import Environment\n",
        "from azureml.core.model import InferenceConfig\n",
        "\n",
        "inference_config = InferenceConfig(entry_script='scoreScript.py',\n",
        "                                    environment=best_run.get_environment())\n",
        "\n",
        "# deploy\n",
        "from azureml.core.webservice import AciWebservice\n",
        "\n",
        "deployment_config = AciWebservice.deploy_configuration(cpu_cores = 1, memory_gb = 1)\n",
        "service = Model.deploy(ws, \"capstonedeploy\", [myModel], inference_config, deployment_config)\n",
        "service.wait_for_deployment(show_output = True)\n",
        "print(service.state)\n",
        "\n",
        "print(service.scoring_uri)\n",
        "\n",
        "print(service.swagger_uri)"
      ],
      "outputs": [
        {
          "output_type": "stream",
          "name": "stdout",
          "text": "Tips: You can try get_logs(): https://aka.ms/debugimage#dockerlog or local deployment: https://aka.ms/debugimage#debug-locally to debug if deployment takes longer than 10 minutes.\nRunning\n2023-12-23 12:06:57+00:00 Creating Container Registry if not exists.\n2023-12-23 12:06:57+00:00 Registering the environment.\n2023-12-23 12:06:57+00:00 Use the existing image.\n2023-12-23 12:06:58+00:00 Submitting deployment to compute.\n2023-12-23 12:07:02+00:00 Checking the status of deployment capstonedeploy..\n2023-12-23 12:09:05+00:00 Checking the status of inference endpoint capstonedeploy.\nSucceeded\nACI service creation operation finished, operation \"Succeeded\"\nHealthy\nhttp://bea5eeb8-425a-4c9d-a5b0-ef30ea974dfc.westus2.azurecontainer.io/score\nhttp://bea5eeb8-425a-4c9d-a5b0-ef30ea974dfc.westus2.azurecontainer.io/swagger.json\n"
        }
      ],
      "execution_count": 14,
      "metadata": {
        "gather": {
          "logged": 1703333379087
        },
        "jupyter": {
          "outputs_hidden": false,
          "source_hidden": false
        },
        "nteract": {
          "transient": {
            "deleting": false
          }
        },
        "editable": true,
        "run_control": {
          "frozen": false
        }
      }
    },
    {
      "cell_type": "markdown",
      "source": [
        "TODO: In the cell below, send a request to the web service you deployed to test it."
      ],
      "metadata": {
        "collapsed": true,
        "gather": {
          "logged": 1598431657736
        },
        "jupyter": {
          "outputs_hidden": false,
          "source_hidden": false
        },
        "nteract": {
          "transient": {
            "deleting": false
          }
        }
      }
    },
    {
      "cell_type": "code",
      "source": [
        "import json\n",
        "\n",
        "#Import test data\n",
        "test_df = data.sample(5) # data is the pandas dataframe of the original data\n",
        "label_df = test_df.pop('Class')\n",
        "\n",
        "test_sample = json.dumps({'data': test_df.to_dict(orient='records')})\n",
        "\n",
        "print(test_sample)"
      ],
      "outputs": [
        {
          "output_type": "stream",
          "name": "stdout",
          "text": "{\"data\": [{\"Atr1\": 4, \"Atr2\": 3, \"Atr3\": 4, \"Atr4\": 3, \"Atr5\": 4, \"Atr6\": 1, \"Atr7\": 0, \"Atr8\": 3, \"Atr9\": 4, \"Atr10\": 3, \"Atr11\": 4, \"Atr12\": 3, \"Atr13\": 4, \"Atr14\": 3, \"Atr15\": 4, \"Atr16\": 3, \"Atr17\": 4, \"Atr18\": 3, \"Atr19\": 4, \"Atr20\": 3, \"Atr21\": 4, \"Atr22\": 3, \"Atr23\": 4, \"Atr24\": 3, \"Atr25\": 4, \"Atr26\": 3, \"Atr27\": 4, \"Atr28\": 3, \"Atr29\": 4, \"Atr30\": 3, \"Atr31\": 4, \"Atr32\": 3, \"Atr33\": 4, \"Atr34\": 3, \"Atr35\": 4, \"Atr36\": 3, \"Atr37\": 4, \"Atr38\": 3, \"Atr39\": 4, \"Atr40\": 3, \"Atr41\": 4, \"Atr42\": 3, \"Atr43\": 4, \"Atr44\": 3, \"Atr45\": 4, \"Atr46\": 3, \"Atr47\": 4, \"Atr48\": 3, \"Atr49\": 4, \"Atr50\": 4, \"Atr51\": 3, \"Atr52\": 4, \"Atr53\": 3, \"Atr54\": 4}, {\"Atr1\": 3, \"Atr2\": 3, \"Atr3\": 2, \"Atr4\": 3, \"Atr5\": 3, \"Atr6\": 1, \"Atr7\": 1, \"Atr8\": 3, \"Atr9\": 3, \"Atr10\": 3, \"Atr11\": 4, \"Atr12\": 3, \"Atr13\": 3, \"Atr14\": 3, \"Atr15\": 3, \"Atr16\": 3, \"Atr17\": 3, \"Atr18\": 3, \"Atr19\": 4, \"Atr20\": 3, \"Atr21\": 3, \"Atr22\": 3, \"Atr23\": 3, \"Atr24\": 4, \"Atr25\": 3, \"Atr26\": 3, \"Atr27\": 2, \"Atr28\": 4, \"Atr29\": 3, \"Atr30\": 4, \"Atr31\": 4, \"Atr32\": 4, \"Atr33\": 4, \"Atr34\": 4, \"Atr35\": 4, \"Atr36\": 4, \"Atr37\": 4, \"Atr38\": 4, \"Atr39\": 4, \"Atr40\": 4, \"Atr41\": 4, \"Atr42\": 3, \"Atr43\": 4, \"Atr44\": 3, \"Atr45\": 3, \"Atr46\": 3, \"Atr47\": 4, \"Atr48\": 4, \"Atr49\": 4, \"Atr50\": 4, \"Atr51\": 3, \"Atr52\": 3, \"Atr53\": 4, \"Atr54\": 4}, {\"Atr1\": 0, \"Atr2\": 0, \"Atr3\": 1, \"Atr4\": 0, \"Atr5\": 1, \"Atr6\": 0, \"Atr7\": 0, \"Atr8\": 0, \"Atr9\": 0, \"Atr10\": 0, \"Atr11\": 0, \"Atr12\": 1, \"Atr13\": 0, \"Atr14\": 0, \"Atr15\": 0, \"Atr16\": 0, \"Atr17\": 0, \"Atr18\": 0, \"Atr19\": 0, \"Atr20\": 0, \"Atr21\": 0, \"Atr22\": 0, \"Atr23\": 0, \"Atr24\": 0, \"Atr25\": 0, \"Atr26\": 0, \"Atr27\": 0, \"Atr28\": 0, \"Atr29\": 0, \"Atr30\": 0, \"Atr31\": 2, \"Atr32\": 1, \"Atr33\": 2, \"Atr34\": 0, \"Atr35\": 0, \"Atr36\": 0, \"Atr37\": 2, \"Atr38\": 0, \"Atr39\": 1, \"Atr40\": 0, \"Atr41\": 0, \"Atr42\": 0, \"Atr43\": 2, \"Atr44\": 0, \"Atr45\": 1, \"Atr46\": 2, \"Atr47\": 1, \"Atr48\": 3, \"Atr49\": 3, \"Atr50\": 2, \"Atr51\": 2, \"Atr52\": 2, \"Atr53\": 2, \"Atr54\": 0}, {\"Atr1\": 0, \"Atr2\": 0, \"Atr3\": 0, \"Atr4\": 0, \"Atr5\": 0, \"Atr6\": 0, \"Atr7\": 0, \"Atr8\": 0, \"Atr9\": 0, \"Atr10\": 0, \"Atr11\": 0, \"Atr12\": 1, \"Atr13\": 0, \"Atr14\": 0, \"Atr15\": 0, \"Atr16\": 0, \"Atr17\": 0, \"Atr18\": 0, \"Atr19\": 0, \"Atr20\": 0, \"Atr21\": 0, \"Atr22\": 0, \"Atr23\": 0, \"Atr24\": 0, \"Atr25\": 0, \"Atr26\": 0, \"Atr27\": 0, \"Atr28\": 0, \"Atr29\": 0, \"Atr30\": 0, \"Atr31\": 0, \"Atr32\": 0, \"Atr33\": 0, \"Atr34\": 1, \"Atr35\": 0, \"Atr36\": 0, \"Atr37\": 1, \"Atr38\": 0, \"Atr39\": 4, \"Atr40\": 1, \"Atr41\": 2, \"Atr42\": 1, \"Atr43\": 1, \"Atr44\": 0, \"Atr45\": 4, \"Atr46\": 3, \"Atr47\": 3, \"Atr48\": 2, \"Atr49\": 2, \"Atr50\": 3, \"Atr51\": 2, \"Atr52\": 4, \"Atr53\": 3, \"Atr54\": 1}, {\"Atr1\": 3, \"Atr2\": 3, \"Atr3\": 3, \"Atr4\": 2, \"Atr5\": 3, \"Atr6\": 1, \"Atr7\": 1, \"Atr8\": 3, \"Atr9\": 3, \"Atr10\": 2, \"Atr11\": 3, \"Atr12\": 3, \"Atr13\": 3, \"Atr14\": 3, \"Atr15\": 3, \"Atr16\": 2, \"Atr17\": 3, \"Atr18\": 3, \"Atr19\": 3, \"Atr20\": 3, \"Atr21\": 3, \"Atr22\": 2, \"Atr23\": 3, \"Atr24\": 3, \"Atr25\": 3, \"Atr26\": 3, \"Atr27\": 3, \"Atr28\": 2, \"Atr29\": 3, \"Atr30\": 3, \"Atr31\": 4, \"Atr32\": 4, \"Atr33\": 4, \"Atr34\": 4, \"Atr35\": 4, \"Atr36\": 4, \"Atr37\": 4, \"Atr38\": 4, \"Atr39\": 4, \"Atr40\": 4, \"Atr41\": 4, \"Atr42\": 4, \"Atr43\": 4, \"Atr44\": 4, \"Atr45\": 3, \"Atr46\": 4, \"Atr47\": 4, \"Atr48\": 4, \"Atr49\": 4, \"Atr50\": 4, \"Atr51\": 4, \"Atr52\": 4, \"Atr53\": 4, \"Atr54\": 4}]}\n"
        }
      ],
      "execution_count": 16,
      "metadata": {
        "jupyter": {
          "source_hidden": false,
          "outputs_hidden": false
        },
        "nteract": {
          "transient": {
            "deleting": false
          }
        },
        "gather": {
          "logged": 1703333617354
        }
      }
    },
    {
      "cell_type": "code",
      "source": [
        "import requests # Used for http post request\n",
        "\n",
        "# Set the content type\n",
        "headers = {'Content-type': 'application/json'}\n",
        "\n",
        "\n",
        "response = requests.post(service.scoring_uri, test_sample, headers=headers)"
      ],
      "outputs": [],
      "execution_count": 17,
      "metadata": {
        "gather": {
          "logged": 1703333626128
        },
        "jupyter": {
          "outputs_hidden": false,
          "source_hidden": false
        },
        "nteract": {
          "transient": {
            "deleting": false
          }
        }
      }
    },
    {
      "cell_type": "markdown",
      "source": [
        "TODO: In the cell below, print the logs of the web service and delete the service"
      ],
      "metadata": {
        "collapsed": true,
        "gather": {
          "logged": 1598432765711
        },
        "jupyter": {
          "outputs_hidden": false,
          "source_hidden": false
        },
        "nteract": {
          "transient": {
            "deleting": false
          }
        }
      }
    },
    {
      "cell_type": "code",
      "source": [
        "# Print results from the inference\n",
        "print(response.text)"
      ],
      "outputs": [
        {
          "output_type": "stream",
          "name": "stdout",
          "text": "\"{\\\"result\\\": [1, 1, 0, 0, 1]}\"\n"
        }
      ],
      "execution_count": 18,
      "metadata": {
        "jupyter": {
          "outputs_hidden": false,
          "source_hidden": false
        },
        "nteract": {
          "transient": {
            "deleting": false
          }
        },
        "gather": {
          "logged": 1703333634517
        }
      }
    },
    {
      "cell_type": "code",
      "source": [
        "# Print original labels\n",
        "print(label_df)"
      ],
      "outputs": [
        {
          "output_type": "stream",
          "name": "stdout",
          "text": "31     1\n38     1\n122    0\n168    0\n51     1\nName: Class, dtype: int64\n"
        }
      ],
      "execution_count": 19,
      "metadata": {
        "gather": {
          "logged": 1703333644837
        }
      }
    },
    {
      "cell_type": "code",
      "source": [
        "print(service.get_logs())"
      ],
      "outputs": [
        {
          "output_type": "stream",
          "name": "stdout",
          "text": "2023-12-23T12:08:51,228654000+00:00 - rsyslog/run \n2023-12-23T12:08:51,240716100+00:00 - gunicorn/run \n2023-12-23T12:08:51,244940000+00:00 | gunicorn/run | \n2023-12-23T12:08:51,250570800+00:00 | gunicorn/run | ###############################################\n2023-12-23T12:08:51,254308600+00:00 | gunicorn/run | AzureML Container Runtime Information\n2023-12-23T12:08:51,261433100+00:00 | gunicorn/run | ###############################################\n2023-12-23T12:08:51,270516800+00:00 | gunicorn/run | \n2023-12-23T12:08:51,278053900+00:00 - nginx/run \n2023-12-23T12:08:51,287803600+00:00 | gunicorn/run | \n2023-12-23T12:08:51,303938000+00:00 | gunicorn/run | AzureML image information: openmpi4.1.0-ubuntu20.04, Materializaton Build:20231130.v5\n2023-12-23T12:08:51,305679100+00:00 | gunicorn/run | \n2023-12-23T12:08:51,307878000+00:00 | gunicorn/run | \n2023-12-23T12:08:51,322597200+00:00 | gunicorn/run | PATH environment variable: /azureml-envs/azureml-automl/bin:/opt/miniconda/bin:/usr/local/sbin:/usr/local/bin:/usr/sbin:/usr/bin:/sbin:/bin\n2023-12-23T12:08:51,330627400+00:00 | gunicorn/run | PYTHONPATH environment variable: \n2023-12-23T12:08:51,335286200+00:00 | gunicorn/run | \n2023-12-23T12:08:52,611620000+00:00 | gunicorn/run | CONDAPATH environment variable: /opt/miniconda\n\n# conda environments:\n#\n                         /azureml-envs/azureml-automl\nbase                     /opt/miniconda\n\n2023-12-23T12:08:54,284154794+00:00 | gunicorn/run | \n2023-12-23T12:08:54,286010094+00:00 | gunicorn/run | Pip Dependencies (before dynamic installation)\n\nadal==1.2.7\napplicationinsights==0.11.10\narch==5.3.1\nargcomplete==3.2.1\nasttokens==2.4.1\nattrs==23.1.0\nazure-common==1.1.28\nazure-core==1.29.5\nazure-graphrbac==0.61.1\nazure-identity==1.15.0\nazure-mgmt-authorization==4.0.0\nazure-mgmt-containerregistry==10.3.0\nazure-mgmt-core==1.4.0\nazure-mgmt-keyvault==10.3.0\nazure-mgmt-network==25.1.0\nazure-mgmt-resource==23.0.1\nazure-mgmt-storage==21.1.0\nazure-storage-blob==12.19.0\nazure-storage-queue==12.9.0\nazureml-automl-core==1.54.0\nazureml-automl-runtime==1.54.0\nazureml-core==1.54.0.post1\nazureml-dataprep==4.12.7\nazureml-dataprep-native==38.0.0\nazureml-dataprep-rslex==2.19.6\nazureml-dataset-runtime==1.54.0.post1\nazureml-defaults==1.54.0\nazureml-inference-server-http==0.8.4.2\nazureml-interpret==1.54.0\nazureml-mlflow==1.54.0.post1\nazureml-pipeline-core==1.54.0\nazureml-responsibleai==1.54.0\nazureml-telemetry==1.54.0\nazureml-train-automl-client==1.54.0.post1\nazureml-train-automl-runtime==1.54.0.post1\nazureml-train-core==1.54.0\nazureml-train-restclients-hyperdrive==1.54.0\nazureml-training-tabular==1.54.0\nbackcall==0.2.0\nbackports.tempfile==1.0\nbackports.weakref==1.0.post1\nbcrypt==4.1.1\nbokeh==2.4.3\nboto==2.49.0\nboto3==1.20.19\nbotocore==1.23.19\nBottleneck @ file:///home/conda/feedstock_root/build_artifacts/bottleneck_1696017999103/work\nBrotli @ file:///home/conda/feedstock_root/build_artifacts/brotli-split_1695989787169/work\ncachetools==5.3.2\ncertifi @ file:///home/conda/feedstock_root/build_artifacts/certifi_1700303426725/work/certifi\ncffi @ file:///home/conda/feedstock_root/build_artifacts/cffi_1696001773319/work\ncharset-normalizer @ file:///home/conda/feedstock_root/build_artifacts/charset-normalizer_1698833585322/work\nclick==8.1.7\ncloudpickle @ file:///home/conda/feedstock_root/build_artifacts/cloudpickle_1598400192773/work\ncmdstanpy==1.2.0\ncoloredlogs==15.0.1\ncontextlib2==21.6.0\ncontourpy==1.1.1\nconvertdate==2.4.0\ncryptography @ file:///home/conda/feedstock_root/build_artifacts/cryptography-split_1701563203981/work\ncycler==0.12.1\nCython==3.0.6\ndask==2023.2.0\ndatabricks-cli==0.18.0\ndataclasses==0.6\ndebugpy==1.8.0\ndecorator==5.1.1\ndice-ml==0.9\ndill==0.3.7\ndistributed==2023.2.0\ndistro==1.8.0\ndocker==6.1.3\ndotnetcore2==3.1.23\neconml==0.14.1\nentrypoints==0.4\nephem==4.1.5\nerroranalysis==0.5.2\nexecuting==2.0.1\nfairlearn==0.7.0\nfire==0.5.0\nFlask==2.2.5\nFlask-Cors==3.0.10\nflatbuffers==23.5.26\nfonttools==4.46.0\nfsspec==2023.12.2\nfusepy==3.0.1\ngensim==3.8.3\ngitdb==4.0.11\nGitPython==3.1.40\ngoogle-api-core==2.15.0\ngoogle-auth==2.25.2\ngoogleapis-common-protos==1.62.0\ngunicorn==20.1.0\nh5py==3.10.0\nholidays @ file:///home/conda/feedstock_root/build_artifacts/holidays_1689631177263/work\nhumanfriendly==10.0\nidna @ file:///home/conda/feedstock_root/build_artifacts/idna_1701026962277/work\nimportlib-metadata==7.0.0\nimportlib-resources==6.1.1\ninference-schema==1.7\ninterpret-community==0.30.0\ninterpret-core==0.4.3\nipykernel==6.8.0\nipython==8.12.3\nisodate==0.6.1\nitsdangerous==2.1.2\njedi==0.19.1\njeepney==0.8.0\nJinja2==3.1.2\njmespath==0.10.0\njoblib @ file:///home/conda/feedstock_root/build_artifacts/joblib_1663332044897/work\njsonpickle==3.0.2\njsonschema==4.20.0\njsonschema-specifications==2023.11.2\njupyter_client==7.4.9\njupyter_core==5.5.0\nkeras2onnx==1.6.0\nkiwisolver==1.4.5\nknack==0.11.0\nlightgbm==3.2.1\nllvmlite==0.38.1\nlocket==1.0.0\nLunarCalendar==0.0.9\nMarkupSafe==2.1.2\nmatplotlib==3.7.4\nmatplotlib-inline==0.1.6\nml-wrappers==0.5.3\nmlflow-skinny==2.9.1\nmltable==1.5.0\nmpmath==1.3.0\nmsal==1.26.0\nmsal-extensions==1.0.0\nmsgpack==1.0.7\nmsrest==0.7.1\nmsrestazure==0.6.4\nndg-httpsclient==0.5.1\nnest-asyncio==1.5.8\nnetworkx==2.5\nnumba==0.55.2\nnumexpr @ file:///home/conda/feedstock_root/build_artifacts/numexpr_1689950431905/work\nnumpy @ file:///home/conda/feedstock_root/build_artifacts/numpy_1653325300596/work\noauthlib==3.2.2\nonnx==1.14.1\nonnxconverter-common==1.13.0\nonnxmltools==1.11.2\nonnxruntime==1.14.1\nopencensus==0.11.3\nopencensus-context==0.1.3\nopencensus-ext-azure==1.1.12\npackaging @ file:///home/conda/feedstock_root/build_artifacts/packaging_1696202382185/work\npandas==1.3.5\nparamiko==3.3.1\nparso==0.8.3\npartd==1.4.1\npathspec==0.12.1\npatsy==0.5.4\npexpect==4.9.0\npickleshare==0.7.5\nPillow==10.1.0\npkginfo==1.9.6\npkgutil_resolve_name==1.3.10\nplatformdirs @ file:///home/conda/feedstock_root/build_artifacts/platformdirs_1701708255999/work\npmdarima==1.8.5\npooch @ file:///home/conda/feedstock_root/build_artifacts/pooch_1698245576425/work\nportalocker==2.8.2\nprompt-toolkit==3.0.42\nproperty-cached==1.6.4\nprophet==1.1.4\nprotobuf==3.20.3\npsutil==5.9.3\nptyprocess==0.7.0\npure-eval==0.2.2\npy-cpuinfo==5.0.0\npyarrow==11.0.0\npyasn1==0.5.1\npyasn1-modules==0.3.0\npycparser @ file:///home/conda/feedstock_root/build_artifacts/pycparser_1636257122734/work\npydantic==1.10.13\nPygments==2.17.2\nPyJWT==2.8.0\nPyMeeus==0.5.12\nPyNaCl==1.5.0\npyOpenSSL @ file:///home/conda/feedstock_root/build_artifacts/pyopenssl_1685514481738/work\npyparsing==3.1.1\nPySocks @ file:///home/conda/feedstock_root/build_artifacts/pysocks_1661604839144/work\npython-dateutil @ file:///home/conda/feedstock_root/build_artifacts/python-dateutil_1626286286081/work\npytz @ file:///home/conda/feedstock_root/build_artifacts/pytz_1693930252784/work\nPyYAML==6.0.1\npyzmq==25.1.2\nraiutils==0.4.1\nreferencing==0.32.0\nrequests @ file:///home/conda/feedstock_root/build_artifacts/requests_1684774241324/work\nrequests-oauthlib==1.3.1\nresponsibleai==0.28.0\nrpds-py==0.13.2\nrsa==4.9\ns3transfer==0.5.2\nscikit-learn==1.0.2\nscipy @ file:///home/conda/feedstock_root/build_artifacts/scipy-split_1683900206454/work/base/dist/scipy-1.10.1-cp38-cp38-linux_x86_64.whl#sha256=13ab5c17dedeb97a65ba90de1c51475f2d3ae0fe50bc43e9b018cc2943541de4\nSecretStorage==3.3.3\nsemver==2.13.0\nsetuptools-git==1.2\nshap==0.41.0\nsix @ file:///home/conda/feedstock_root/build_artifacts/six_1620240208055/work\nskl2onnx==1.14.1\nsklearn-pandas==1.7.0\nslicer==0.0.7\nsmart-open==1.9.0\nsmmap==5.0.1\nsortedcontainers==2.4.0\nsparse==0.14.0\nsqlparse==0.4.4\nstack-data==0.6.3\nstanio==0.3.0\nstatsmodels==0.13.5\nsympy==1.12\ntabulate==0.9.0\ntblib==3.0.0\ntermcolor==2.4.0\nthreadpoolctl @ file:///home/conda/feedstock_root/build_artifacts/threadpoolctl_1689261241048/work\ntoolz==0.12.0\ntornado==6.4\ntqdm==4.66.1\ntraitlets==5.14.0\ntyping_extensions==4.9.0\nurllib3==1.26.18\nwcwidth==0.2.12\nwebsocket-client==1.7.0\nWerkzeug==3.0.1\nwrapt==1.12.1\nxgboost==1.3.3\nzict==3.0.0\nzipp==3.17.0\n\n2023-12-23T12:08:57,293893608+00:00 | gunicorn/run | \n2023-12-23T12:08:57,296243308+00:00 | gunicorn/run | Entry script directory: /var/azureml-app\n2023-12-23T12:08:57,298562008+00:00 | gunicorn/run | \n2023-12-23T12:08:57,306619908+00:00 | gunicorn/run | ###############################################\n2023-12-23T12:08:57,310196808+00:00 | gunicorn/run | Dynamic Python Package Installation\n2023-12-23T12:08:57,314628008+00:00 | gunicorn/run | ###############################################\n2023-12-23T12:08:57,317526808+00:00 | gunicorn/run | \n2023-12-23T12:08:57,324095908+00:00 | gunicorn/run | Dynamic Python package installation is disabled.\n2023-12-23T12:08:57,326301008+00:00 | gunicorn/run | \n2023-12-23T12:08:57,332520608+00:00 | gunicorn/run | ###############################################\n2023-12-23T12:08:57,334250608+00:00 | gunicorn/run | Checking if the Python package azureml-inference-server-http is installed\n2023-12-23T12:08:57,337507108+00:00 | gunicorn/run | ###############################################\n2023-12-23T12:08:57,343239308+00:00 | gunicorn/run | \n2023-12-23T12:09:02,327516523+00:00 | gunicorn/run | \n2023-12-23T12:09:02,330091615+00:00 | gunicorn/run | ###############################################\n2023-12-23T12:09:02,332408629+00:00 | gunicorn/run | AzureML Inference Server\n2023-12-23T12:09:02,340704260+00:00 | gunicorn/run | ###############################################\n2023-12-23T12:09:02,344915920+00:00 | gunicorn/run | \n2023-12-23T12:09:02,348383541+00:00 | gunicorn/run | Starting AzureML Inference Server HTTP.\n2023-12-23 12:09:02,866 I [80] azmlinfsrv - Loaded logging config from /azureml-envs/azureml-automl/lib/python3.8/site-packages/azureml_inference_server_http/logging.json\n2023-12-23 12:09:03,385 I [80] gunicorn.error - Starting gunicorn 20.1.0\n2023-12-23 12:09:03,386 I [80] gunicorn.error - Listening at: http://0.0.0.0:31311 (80)\n2023-12-23 12:09:03,386 I [80] gunicorn.error - Using worker: sync\n2023-12-23 12:09:03,393 I [142] gunicorn.error - Booting worker with pid: 142\n\nAzure ML Inferencing HTTP server v0.8.4.2\n\n\nServer Settings\n---------------\nEntry Script Name: /var/azureml-app/main.py\nModel Directory: /var/azureml-app/azureml-models/capstoneModel_automl/2\nConfig File: None\nWorker Count: 1\nWorker Timeout (seconds): 300\nServer Port: 31311\nHealth Port: 31311\nApplication Insights Enabled: false\nApplication Insights Key: None\nInferencing HTTP server version: azmlinfsrv/0.8.4.2\nCORS for the specified origins: None\nCreate dedicated endpoint for health: None\n\n\nServer Routes\n---------------\nLiveness Probe: GET   127.0.0.1:31311/\nScore:          POST  127.0.0.1:31311/score\n\n2023-12-23 12:09:04,761 I [142] azmlinfsrv - AML_FLASK_ONE_COMPATIBILITY is set. Patched Flask to ensure compatibility with Flask 1.\nInitializing logger\n2023-12-23 12:09:04,771 I [142] azmlinfsrv - Starting up app insights client\n2023-12-23 12:09:06,687 I [142] azmlinfsrv.user_script - Found driver script at /var/azureml-app/main.py and the score script at /var/azureml-app/scoreScript.py\n2023-12-23 12:09:06,688 I [142] azmlinfsrv.user_script - run() is decorated with @input_schema. Server will invoke it with the following arguments: data, method.\n2023-12-23 12:09:06,689 I [142] azmlinfsrv.user_script - Invoking user's init function\nERROR:prophet.plot:Importing plotly failed. Interactive plots will not work.\n2023-12-23 12:09:25,572 I [142] azmlinfsrv.user_script - Users's init has completed successfully\n2023-12-23 12:09:25,576 I [142] azmlinfsrv.swagger - Swaggers are prepared for the following versions: [2, 3, 3.1].\n2023-12-23 12:09:25,576 I [142] azmlinfsrv - Scoring timeout is set to 60000\n2023-12-23 12:09:25,576 I [142] azmlinfsrv - Worker with pid 142 ready for serving traffic\n2023-12-23 12:09:25,583 W [142] azmlinfsrv - x-ms-request-id header has been deprecated and will be removed from future versions of the server. Please use x-ms-client-request-id.\n2023-12-23 12:09:25,584 I [142] gunicorn.access - 127.0.0.1 - - [23/Dec/2023:12:09:25 +0000] \"GET / HTTP/1.0\" 200 7 \"-\" \"Go-http-client/1.1\"\n2023-12-23 12:09:25,586 W [142] azmlinfsrv - x-ms-request-id header has been deprecated and will be removed from future versions of the server. Please use x-ms-client-request-id.\n2023-12-23 12:09:25,589 I [142] gunicorn.access - 127.0.0.1 - - [23/Dec/2023:12:09:25 +0000] \"GET / HTTP/1.0\" 200 7 \"-\" \"Go-http-client/1.1\"\n2023-12-23 12:09:25,596 W [142] azmlinfsrv - x-ms-request-id header has been deprecated and will be removed from future versions of the server. Please use x-ms-client-request-id.\n2023-12-23 12:09:25,597 I [142] gunicorn.access - 127.0.0.1 - - [23/Dec/2023:12:09:25 +0000] \"GET / HTTP/1.0\" 200 7 \"-\" \"Go-http-client/1.1\"\n2023-12-23 12:09:25,599 W [142] azmlinfsrv - x-ms-request-id header has been deprecated and will be removed from future versions of the server. Please use x-ms-client-request-id.\n2023-12-23 12:09:25,600 I [142] gunicorn.access - 127.0.0.1 - - [23/Dec/2023:12:09:25 +0000] \"GET / HTTP/1.0\" 200 7 \"-\" \"Go-http-client/1.1\"\n2023-12-23 12:09:26,638 I [142] gunicorn.access - 127.0.0.1 - - [23/Dec/2023:12:09:26 +0000] \"GET / HTTP/1.0\" 200 7 \"-\" \"curl/7.58.0\"\n2023-12-23 12:09:37,012 W [142] azmlinfsrv - x-ms-request-id header has been deprecated and will be removed from future versions of the server. Please use x-ms-client-request-id.\n2023-12-23 12:09:37,013 I [142] gunicorn.access - 127.0.0.1 - - [23/Dec/2023:12:09:37 +0000] \"GET / HTTP/1.0\" 200 7 \"-\" \"Go-http-client/1.1\"\n2023-12-23 12:09:37,022 W [142] azmlinfsrv - x-ms-request-id header has been deprecated and will be removed from future versions of the server. Please use x-ms-client-request-id.\n2023-12-23 12:09:37,024 I [142] azmlinfsrv - GET /swagger.json 200 1.411ms 6236\n2023-12-23 12:09:37,025 I [142] gunicorn.access - 127.0.0.1 - - [23/Dec/2023:12:09:37 +0000] \"GET /swagger.json HTTP/1.0\" 200 6236 \"-\" \"Go-http-client/1.1\"\n2023-12-23 12:09:38,654 W [142] azmlinfsrv - x-ms-request-id header has been deprecated and will be removed from future versions of the server. Please use x-ms-client-request-id.\n2023-12-23 12:09:38,656 I [142] gunicorn.access - 127.0.0.1 - - [23/Dec/2023:12:09:38 +0000] \"GET / HTTP/1.0\" 200 7 \"-\" \"Go-http-client/1.1\"\n2023-12-23 12:09:38,662 W [142] azmlinfsrv - x-ms-request-id header has been deprecated and will be removed from future versions of the server. Please use x-ms-client-request-id.\n2023-12-23 12:09:38,665 I [142] azmlinfsrv - GET /swagger.json 200 2.606ms 6236\n2023-12-23 12:09:38,667 I [142] gunicorn.access - 127.0.0.1 - - [23/Dec/2023:12:09:38 +0000] \"GET /swagger.json HTTP/1.0\" 200 6236 \"-\" \"Go-http-client/1.1\"\n2023-12-23 12:13:45,594 W [142] azmlinfsrv - x-ms-request-id header has been deprecated and will be removed from future versions of the server. Please use x-ms-client-request-id.\n2023-12-23 12:13:45,986 I [142] azmlinfsrv - POST /score 200 392.920ms 31\n2023-12-23 12:13:45,988 I [142] gunicorn.access - 127.0.0.1 - - [23/Dec/2023:12:13:45 +0000] \"POST /score HTTP/1.0\" 200 31 \"-\" \"python-requests/2.31.0\"\n\n"
        }
      ],
      "execution_count": 20,
      "metadata": {
        "gather": {
          "logged": 1703333654234
        }
      }
    },
    {
      "cell_type": "code",
      "source": [
        "service.delete()"
      ],
      "outputs": [],
      "execution_count": null,
      "metadata": {
        "gather": {
          "logged": 1703333130205
        }
      }
    },
    {
      "cell_type": "markdown",
      "source": [
        "**Submission Checklist**\n",
        "- I have registered the model.\n",
        "- I have deployed the model with the best accuracy as a webservice.\n",
        "- I have tested the webservice by sending a request to the model endpoint.\n",
        "- I have deleted the webservice and shutdown all the computes that I have used.\n",
        "- I have taken a screenshot showing the model endpoint as active.\n",
        "- The project includes a file containing the environment details.\n"
      ],
      "metadata": {}
    },
    {
      "cell_type": "markdown",
      "source": [],
      "metadata": {}
    }
  ],
  "metadata": {
    "kernel_info": {
      "name": "python3"
    },
    "kernelspec": {
      "name": "python3",
      "language": "python",
      "display_name": "Python 3 (ipykernel)"
    },
    "language_info": {
      "name": "python",
      "version": "3.8.5",
      "mimetype": "text/x-python",
      "codemirror_mode": {
        "name": "ipython",
        "version": 3
      },
      "pygments_lexer": "ipython3",
      "nbconvert_exporter": "python",
      "file_extension": ".py"
    },
    "nteract": {
      "version": "nteract-front-end@1.0.0"
    },
    "microsoft": {
      "ms_spell_check": {
        "ms_spell_check_language": "en"
      },
      "host": {
        "AzureML": {
          "notebookHasBeenCompleted": true
        }
      }
    }
  },
  "nbformat": 4,
  "nbformat_minor": 2
}